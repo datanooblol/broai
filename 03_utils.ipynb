{
 "cells": [
  {
   "cell_type": "code",
   "execution_count": 1,
   "id": "1ae67163-f7d3-4682-94b0-cd6fa366844e",
   "metadata": {},
   "outputs": [
    {
     "name": "stdout",
     "output_type": "stream",
     "text": [
      "3.11.12 (main, Apr  9 2025, 04:04:00) [Clang 20.1.0 ]\n"
     ]
    }
   ],
   "source": [
    "import sys\n",
    "print(sys.version) # broai supports python3.11"
   ]
  },
  {
   "cell_type": "markdown",
   "id": "ed11cdd5-a158-4627-b88c-4e51466dc87c",
   "metadata": {},
   "source": [
    "# Start"
   ]
  },
  {
   "cell_type": "markdown",
   "id": "f7356245-ab9e-414a-aba1-1627b17d6536",
   "metadata": {},
   "source": [
    "# Utility"
   ]
  },
  {
   "cell_type": "code",
   "execution_count": 2,
   "id": "756a3d3b-5503-4eef-9fba-082574ca5a58",
   "metadata": {},
   "outputs": [],
   "source": [
    "from broai.interface import Context, Contexts, TaskStatus"
   ]
  },
  {
   "cell_type": "code",
   "execution_count": 3,
   "id": "e58ae634-bbaa-42f5-ad32-196def4497bd",
   "metadata": {},
   "outputs": [
    {
     "data": {
      "text/plain": [
       "Context(id='23ee0308-1a26-40cb-aafb-0dbd74f8c3fc', context='Test', metadata=None, type='document', created_at='2025-04-26 23:52:30.087896')"
      ]
     },
     "execution_count": 3,
     "metadata": {},
     "output_type": "execute_result"
    }
   ],
   "source": [
    "Context(context=\"Test\")"
   ]
  },
  {
   "cell_type": "code",
   "execution_count": 4,
   "id": "a902d128-9c3e-480e-a186-110c0db162ae",
   "metadata": {},
   "outputs": [],
   "source": [
    "contexts = Contexts(contexts=[Context(context=c, metadata={\"source\": s}) for c, s in zip([\"test1\", \"test2\"], [\"source1\", \"source2\"])])"
   ]
  },
  {
   "cell_type": "code",
   "execution_count": 5,
   "id": "6462a3fb-1d42-4a0b-ad36-ca49640514e1",
   "metadata": {},
   "outputs": [
    {
     "name": "stdout",
     "output_type": "stream",
     "text": [
      "Knowledge: \n",
      "\n",
      "Source: source1\n",
      "Context: \n",
      "test1\n",
      "\n",
      "Source: source2\n",
      "Context: \n",
      "test2\n"
     ]
    }
   ],
   "source": [
    "print(contexts.as_knowledge())"
   ]
  }
 ],
 "metadata": {
  "kernelspec": {
   "display_name": "broai",
   "language": "python",
   "name": "broai"
  },
  "language_info": {
   "codemirror_mode": {
    "name": "ipython",
    "version": 3
   },
   "file_extension": ".py",
   "mimetype": "text/x-python",
   "name": "python",
   "nbconvert_exporter": "python",
   "pygments_lexer": "ipython3",
   "version": "3.11.12"
  }
 },
 "nbformat": 4,
 "nbformat_minor": 5
}
