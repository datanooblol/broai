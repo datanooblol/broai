{
 "cells": [
  {
   "cell_type": "code",
   "execution_count": 1,
   "id": "1ae67163-f7d3-4682-94b0-cd6fa366844e",
   "metadata": {},
   "outputs": [
    {
     "name": "stdout",
     "output_type": "stream",
     "text": [
      "3.11.12 (main, Apr  9 2025, 04:04:00) [Clang 20.1.0 ]\n"
     ]
    }
   ],
   "source": [
    "import sys\n",
    "print(sys.version) # broai supports python3.11"
   ]
  },
  {
   "cell_type": "markdown",
   "id": "ed11cdd5-a158-4627-b88c-4e51466dc87c",
   "metadata": {},
   "source": [
    "# Start"
   ]
  },
  {
   "cell_type": "code",
   "execution_count": 2,
   "id": "5d2359ff-1d69-4d0b-b89b-3398913550da",
   "metadata": {},
   "outputs": [],
   "source": [
    "%load_ext autoreload\n",
    "%autoreload 2"
   ]
  },
  {
   "cell_type": "markdown",
   "id": "c817ad0b-8de2-4009-aaf1-1731ec9123c0",
   "metadata": {},
   "source": [
    "# DuckStore"
   ]
  },
  {
   "cell_type": "markdown",
   "id": "0e041494-1677-4ba1-bdab-44e6c3ab573a",
   "metadata": {},
   "source": [
    "## Relational"
   ]
  },
  {
   "cell_type": "code",
   "execution_count": 3,
   "id": "e55064b3-3cb2-4618-a491-a35b087640b3",
   "metadata": {},
   "outputs": [
    {
     "name": "stderr",
     "output_type": "stream",
     "text": [
      "/home/ec2-user/SageMaker/broai/.venv/lib/python3.11/site-packages/tqdm/auto.py:21: TqdmWarning: IProgress not found. Please update jupyter and ipywidgets. See https://ipywidgets.readthedocs.io/en/stable/user_install.html\n",
      "  from .autonotebook import tqdm as notebook_tqdm\n"
     ]
    }
   ],
   "source": [
    "from broai.duckdb_management.utils import get_create_table_query, get_insert_query, get_batch_update_query\n",
    "from broai.duckdb_management.interface import DuckStoreInterface\n",
    "from broai.duckdb_management.utils import DataTypeConversion\n",
    "from broai.experiments.huggingface_embedding import EmbeddingDimension"
   ]
  },
  {
   "cell_type": "code",
   "execution_count": 4,
   "id": "af97d83e-c780-4e75-94f6-3ea1097ef82f",
   "metadata": {},
   "outputs": [
    {
     "data": {
      "text/plain": [
       "'My name<|single_quote|>s Jake.'"
      ]
     },
     "execution_count": 4,
     "metadata": {},
     "output_type": "execute_result"
    }
   ],
   "source": [
    "converted_text = DataTypeConversion.convert_single_quote(text=\"My name's Jake.\")\n",
    "converted_text"
   ]
  },
  {
   "cell_type": "code",
   "execution_count": 5,
   "id": "00a5f314-239f-4e35-80d5-b5f065c56946",
   "metadata": {},
   "outputs": [
    {
     "data": {
      "text/plain": [
       "\"My name's Jake.\""
      ]
     },
     "execution_count": 5,
     "metadata": {},
     "output_type": "execute_result"
    }
   ],
   "source": [
    "reversed_text = DataTypeConversion.reverse_single_quote(text=converted_text)\n",
    "reversed_text"
   ]
  },
  {
   "cell_type": "code",
   "execution_count": 6,
   "id": "d4cd41f6-e407-4f34-99f6-4df98f5ac0be",
   "metadata": {},
   "outputs": [],
   "source": [
    "schemas = {\n",
    "    \"doc_id\": \"VARCHAR\",\n",
    "    \"content\": \"VARCHAR\",\n",
    "    \"data\": \"JSON\"\n",
    "}\n",
    "\n",
    "sm = DuckStoreInterface(db_name=\"./duckmemory.db\", table=\"sessionmemory\", schemas=schemas)"
   ]
  },
  {
   "cell_type": "code",
   "execution_count": 7,
   "id": "cadffe1a-f6d0-475f-8b1b-97828f52a516",
   "metadata": {},
   "outputs": [],
   "source": [
    "sm.create_table()"
   ]
  },
  {
   "cell_type": "code",
   "execution_count": 8,
   "id": "24ffdda7-bbec-48e1-9b2d-c39dc3ee84b9",
   "metadata": {},
   "outputs": [
    {
     "data": {
      "text/html": [
       "<div>\n",
       "<style scoped>\n",
       "    .dataframe tbody tr th:only-of-type {\n",
       "        vertical-align: middle;\n",
       "    }\n",
       "\n",
       "    .dataframe tbody tr th {\n",
       "        vertical-align: top;\n",
       "    }\n",
       "\n",
       "    .dataframe thead th {\n",
       "        text-align: right;\n",
       "    }\n",
       "</style>\n",
       "<table border=\"1\" class=\"dataframe\">\n",
       "  <thead>\n",
       "    <tr style=\"text-align: right;\">\n",
       "      <th></th>\n",
       "      <th>doc_id</th>\n",
       "      <th>content</th>\n",
       "      <th>data</th>\n",
       "    </tr>\n",
       "  </thead>\n",
       "  <tbody>\n",
       "  </tbody>\n",
       "</table>\n",
       "</div>"
      ],
      "text/plain": [
       "Empty DataFrame\n",
       "Columns: [doc_id, content, data]\n",
       "Index: []"
      ]
     },
     "execution_count": 8,
     "metadata": {},
     "output_type": "execute_result"
    }
   ],
   "source": [
    "sm.sql_df(query=\"SELECT * FROM sessionmemory;\")"
   ]
  },
  {
   "cell_type": "code",
   "execution_count": 9,
   "id": "70327a72-0725-4e60-b214-d9b26e20a2dd",
   "metadata": {},
   "outputs": [
    {
     "data": {
      "text/plain": [
       "{'doc_id': 'VARCHAR', 'content': 'VARCHAR', 'data': 'JSON'}"
      ]
     },
     "execution_count": 9,
     "metadata": {},
     "output_type": "execute_result"
    }
   ],
   "source": [
    "sm.show_schemas()"
   ]
  },
  {
   "cell_type": "code",
   "execution_count": 10,
   "id": "58e70fdb-e7b1-42e9-bc58-a7baa9c6a293",
   "metadata": {},
   "outputs": [
    {
     "data": {
      "text/html": [
       "<div>\n",
       "<style scoped>\n",
       "    .dataframe tbody tr th:only-of-type {\n",
       "        vertical-align: middle;\n",
       "    }\n",
       "\n",
       "    .dataframe tbody tr th {\n",
       "        vertical-align: top;\n",
       "    }\n",
       "\n",
       "    .dataframe thead th {\n",
       "        text-align: right;\n",
       "    }\n",
       "</style>\n",
       "<table border=\"1\" class=\"dataframe\">\n",
       "  <thead>\n",
       "    <tr style=\"text-align: right;\">\n",
       "      <th></th>\n",
       "      <th>doc_id</th>\n",
       "      <th>content</th>\n",
       "      <th>data</th>\n",
       "    </tr>\n",
       "  </thead>\n",
       "  <tbody>\n",
       "    <tr>\n",
       "      <th>0</th>\n",
       "      <td>0</td>\n",
       "      <td>a</td>\n",
       "      <td>None</td>\n",
       "    </tr>\n",
       "    <tr>\n",
       "      <th>1</th>\n",
       "      <td>1</td>\n",
       "      <td>b</td>\n",
       "      <td>None</td>\n",
       "    </tr>\n",
       "  </tbody>\n",
       "</table>\n",
       "</div>"
      ],
      "text/plain": [
       "  doc_id content  data\n",
       "0      0       a  None\n",
       "1      1       b  None"
      ]
     },
     "execution_count": 10,
     "metadata": {},
     "output_type": "execute_result"
    }
   ],
   "source": [
    "_data = [\n",
    "    [\"0\", \"a\"],\n",
    "    [\"1\", \"b\"]\n",
    "]\n",
    "data = \", \".join([f\"('{d[0]}', '{d[1]}')\" for d in _data])\n",
    "sm.add(fields=[\"doc_id\", \"content\"], data=data)\n",
    "sm.read(fields=[\"*\"])"
   ]
  },
  {
   "cell_type": "code",
   "execution_count": 11,
   "id": "293d5097-0fad-4a4b-8734-848d6b7f299b",
   "metadata": {},
   "outputs": [
    {
     "data": {
      "text/html": [
       "<div>\n",
       "<style scoped>\n",
       "    .dataframe tbody tr th:only-of-type {\n",
       "        vertical-align: middle;\n",
       "    }\n",
       "\n",
       "    .dataframe tbody tr th {\n",
       "        vertical-align: top;\n",
       "    }\n",
       "\n",
       "    .dataframe thead th {\n",
       "        text-align: right;\n",
       "    }\n",
       "</style>\n",
       "<table border=\"1\" class=\"dataframe\">\n",
       "  <thead>\n",
       "    <tr style=\"text-align: right;\">\n",
       "      <th></th>\n",
       "      <th>doc_id</th>\n",
       "      <th>content</th>\n",
       "      <th>data</th>\n",
       "    </tr>\n",
       "  </thead>\n",
       "  <tbody>\n",
       "    <tr>\n",
       "      <th>0</th>\n",
       "      <td>0</td>\n",
       "      <td>aa</td>\n",
       "      <td>None</td>\n",
       "    </tr>\n",
       "    <tr>\n",
       "      <th>1</th>\n",
       "      <td>1</td>\n",
       "      <td>bb</td>\n",
       "      <td>None</td>\n",
       "    </tr>\n",
       "  </tbody>\n",
       "</table>\n",
       "</div>"
      ],
      "text/plain": [
       "  doc_id content  data\n",
       "0      0      aa  None\n",
       "1      1      bb  None"
      ]
     },
     "execution_count": 11,
     "metadata": {},
     "output_type": "execute_result"
    }
   ],
   "source": [
    "_data = [\n",
    "    [\"0\", \"aa\"],\n",
    "    [\"1\", \"bb\"]\n",
    "]\n",
    "data = \", \".join([f\"('{d[0]}', '{d[1]}')\" for d in _data])\n",
    "sm.update(schemas={\"doc_id\": \"VARCHAR\", \"content\": \"VARCHAR\"}, data=data, ref_keys=[\"doc_id\"])\n",
    "sm.read()"
   ]
  },
  {
   "cell_type": "code",
   "execution_count": 12,
   "id": "9d684486-d736-4317-a11e-d8f2e48396d4",
   "metadata": {},
   "outputs": [
    {
     "data": {
      "text/html": [
       "<div>\n",
       "<style scoped>\n",
       "    .dataframe tbody tr th:only-of-type {\n",
       "        vertical-align: middle;\n",
       "    }\n",
       "\n",
       "    .dataframe tbody tr th {\n",
       "        vertical-align: top;\n",
       "    }\n",
       "\n",
       "    .dataframe thead th {\n",
       "        text-align: right;\n",
       "    }\n",
       "</style>\n",
       "<table border=\"1\" class=\"dataframe\">\n",
       "  <thead>\n",
       "    <tr style=\"text-align: right;\">\n",
       "      <th></th>\n",
       "      <th>doc_id</th>\n",
       "      <th>content</th>\n",
       "      <th>data</th>\n",
       "    </tr>\n",
       "  </thead>\n",
       "  <tbody>\n",
       "    <tr>\n",
       "      <th>0</th>\n",
       "      <td>0</td>\n",
       "      <td>aa</td>\n",
       "      <td>None</td>\n",
       "    </tr>\n",
       "  </tbody>\n",
       "</table>\n",
       "</div>"
      ],
      "text/plain": [
       "  doc_id content  data\n",
       "0      0      aa  None"
      ]
     },
     "execution_count": 12,
     "metadata": {},
     "output_type": "execute_result"
    }
   ],
   "source": [
    "sm.delete(where_condition=\"WHERE doc_id IN ('1', '2')\")\n",
    "sm.read()"
   ]
  },
  {
   "cell_type": "code",
   "execution_count": 13,
   "id": "7283aa8d-1bf6-4eeb-b106-5e4b1b3cf091",
   "metadata": {},
   "outputs": [],
   "source": [
    "sm.delete_table()"
   ]
  },
  {
   "cell_type": "code",
   "execution_count": 14,
   "id": "97f3edd9-fc8e-4ebe-8eba-5bc94fa254d9",
   "metadata": {},
   "outputs": [],
   "source": [
    "sm.drop_table()"
   ]
  },
  {
   "cell_type": "code",
   "execution_count": 15,
   "id": "f975085b-4120-4526-aba8-070b7a9d78f2",
   "metadata": {},
   "outputs": [],
   "source": [
    "sm.remove_database(confirm=f\"remove {sm.db_name}\")"
   ]
  },
  {
   "cell_type": "markdown",
   "id": "cdff7623-660e-4769-a221-b0d0d074c758",
   "metadata": {},
   "source": [
    "## Vector Search: not implement yet"
   ]
  },
  {
   "cell_type": "code",
   "execution_count": 16,
   "id": "aa2ad2cc-0337-421d-88fb-a6086b49f20b",
   "metadata": {},
   "outputs": [],
   "source": [
    "schemas = {\n",
    "    \"id\": \"VARCHAR\",\n",
    "    \"vectors\": \"FLOAT[3]\"\n",
    "}\n",
    "vector_db = DuckStoreInterface(db_name=\"./duckmemory.db\", table=\"vectors\", schemas=schemas)\n",
    "vector_db.create_table()"
   ]
  },
  {
   "cell_type": "code",
   "execution_count": 17,
   "id": "97744948-6e24-4245-8ca9-34e2e1b56172",
   "metadata": {},
   "outputs": [
    {
     "data": {
      "text/html": [
       "<div>\n",
       "<style scoped>\n",
       "    .dataframe tbody tr th:only-of-type {\n",
       "        vertical-align: middle;\n",
       "    }\n",
       "\n",
       "    .dataframe tbody tr th {\n",
       "        vertical-align: top;\n",
       "    }\n",
       "\n",
       "    .dataframe thead th {\n",
       "        text-align: right;\n",
       "    }\n",
       "</style>\n",
       "<table border=\"1\" class=\"dataframe\">\n",
       "  <thead>\n",
       "    <tr style=\"text-align: right;\">\n",
       "      <th></th>\n",
       "      <th>id</th>\n",
       "      <th>vectors</th>\n",
       "    </tr>\n",
       "  </thead>\n",
       "  <tbody>\n",
       "  </tbody>\n",
       "</table>\n",
       "</div>"
      ],
      "text/plain": [
       "Empty DataFrame\n",
       "Columns: [id, vectors]\n",
       "Index: []"
      ]
     },
     "execution_count": 17,
     "metadata": {},
     "output_type": "execute_result"
    }
   ],
   "source": [
    "vector_db.read()"
   ]
  },
  {
   "cell_type": "code",
   "execution_count": 18,
   "id": "61c2c332-ffbe-4817-88df-cb08867d1a54",
   "metadata": {},
   "outputs": [
    {
     "data": {
      "text/html": [
       "<div>\n",
       "<style scoped>\n",
       "    .dataframe tbody tr th:only-of-type {\n",
       "        vertical-align: middle;\n",
       "    }\n",
       "\n",
       "    .dataframe tbody tr th {\n",
       "        vertical-align: top;\n",
       "    }\n",
       "\n",
       "    .dataframe thead th {\n",
       "        text-align: right;\n",
       "    }\n",
       "</style>\n",
       "<table border=\"1\" class=\"dataframe\">\n",
       "  <thead>\n",
       "    <tr style=\"text-align: right;\">\n",
       "      <th></th>\n",
       "      <th>id</th>\n",
       "      <th>vectors</th>\n",
       "    </tr>\n",
       "  </thead>\n",
       "  <tbody>\n",
       "    <tr>\n",
       "      <th>0</th>\n",
       "      <td>a</td>\n",
       "      <td>[1e-04, 1e-04, 1e-04]</td>\n",
       "    </tr>\n",
       "    <tr>\n",
       "      <th>1</th>\n",
       "      <td>b</td>\n",
       "      <td>[0.0, 0.1, 0.0]</td>\n",
       "    </tr>\n",
       "    <tr>\n",
       "      <th>2</th>\n",
       "      <td>c</td>\n",
       "      <td>[0.15, 0.0, 0.1]</td>\n",
       "    </tr>\n",
       "  </tbody>\n",
       "</table>\n",
       "</div>"
      ],
      "text/plain": [
       "  id                vectors\n",
       "0  a  [1e-04, 1e-04, 1e-04]\n",
       "1  b        [0.0, 0.1, 0.0]\n",
       "2  c       [0.15, 0.0, 0.1]"
      ]
     },
     "execution_count": 18,
     "metadata": {},
     "output_type": "execute_result"
    }
   ],
   "source": [
    "vectors = [\n",
    "    [0.0001,0.0001,0.0001],\n",
    "    [0,.1,0],\n",
    "    [.15,0,.10],\n",
    "]\n",
    "data = \", \".join(f\"('{i}', {v})\" for i, v in zip([\"a\", \"b\", \"c\"], vectors))\n",
    "vector_db.add(fields=[\"id\", \"vectors\"], data=data)\n",
    "vector_db.read()"
   ]
  },
  {
   "cell_type": "code",
   "execution_count": 19,
   "id": "76fe4cf0-d053-4184-ac17-3f31c74c6b04",
   "metadata": {},
   "outputs": [],
   "source": [
    "from typing import List\n",
    "import duckdb\n",
    "\n",
    "def vector_search(db:DuckStoreInterface, field:str, vector:List[float], embedding_size:int, limit=2):\n",
    "    if len(vector) != embedding_size:\n",
    "        raise Exception(f\"vector must be of size, {embedding_size}. Instead got {len(vector)}\")\n",
    "    db_name = db.db_name\n",
    "    table = db.table\n",
    "    query = f\"\"\"SELECT *, array_cosine_similarity({field}, $searchVector::FLOAT[3]) AS score from {table} ORDER BY score DESC LIMIT {limit};\"\"\"\n",
    "    with duckdb.connect(db_name) as con:\n",
    "        df = con.sql(query, params=dict(searchVector=vector)).to_df()\n",
    "    return df"
   ]
  },
  {
   "cell_type": "code",
   "execution_count": 20,
   "id": "5797e60e-d73d-49d8-a084-84e88554bf7c",
   "metadata": {},
   "outputs": [
    {
     "data": {
      "text/html": [
       "<div>\n",
       "<style scoped>\n",
       "    .dataframe tbody tr th:only-of-type {\n",
       "        vertical-align: middle;\n",
       "    }\n",
       "\n",
       "    .dataframe tbody tr th {\n",
       "        vertical-align: top;\n",
       "    }\n",
       "\n",
       "    .dataframe thead th {\n",
       "        text-align: right;\n",
       "    }\n",
       "</style>\n",
       "<table border=\"1\" class=\"dataframe\">\n",
       "  <thead>\n",
       "    <tr style=\"text-align: right;\">\n",
       "      <th></th>\n",
       "      <th>id</th>\n",
       "      <th>vectors</th>\n",
       "      <th>score</th>\n",
       "    </tr>\n",
       "  </thead>\n",
       "  <tbody>\n",
       "    <tr>\n",
       "      <th>0</th>\n",
       "      <td>a</td>\n",
       "      <td>[1e-04, 1e-04, 1e-04]</td>\n",
       "      <td>1.000000</td>\n",
       "    </tr>\n",
       "    <tr>\n",
       "      <th>1</th>\n",
       "      <td>c</td>\n",
       "      <td>[0.15, 0.0, 0.1]</td>\n",
       "      <td>0.800641</td>\n",
       "    </tr>\n",
       "  </tbody>\n",
       "</table>\n",
       "</div>"
      ],
      "text/plain": [
       "  id                vectors     score\n",
       "0  a  [1e-04, 1e-04, 1e-04]  1.000000\n",
       "1  c       [0.15, 0.0, 0.1]  0.800641"
      ]
     },
     "execution_count": 20,
     "metadata": {},
     "output_type": "execute_result"
    }
   ],
   "source": [
    "vector = [0.0001,0.0001,0.0001]\n",
    "\n",
    "vector_search(vector_db, field=\"vectors\", vector=vector, embedding_size=3)"
   ]
  },
  {
   "cell_type": "code",
   "execution_count": 21,
   "id": "c07c8282-fa4c-4f7e-bad6-9f12ee846fd3",
   "metadata": {},
   "outputs": [],
   "source": [
    "vector_db.delete_table()"
   ]
  },
  {
   "cell_type": "markdown",
   "id": "3bbcd594-9d0d-4fa2-9d0e-909a6a8daecb",
   "metadata": {},
   "source": [
    "## Fulltext Search: not implement yet"
   ]
  },
  {
   "cell_type": "code",
   "execution_count": 22,
   "id": "54f3b57d-7a39-4afc-98dd-377bed839745",
   "metadata": {},
   "outputs": [],
   "source": [
    "schemas = {\n",
    "    \"id\": \"VARCHAR\",\n",
    "    \"target_field\": \"VARCHAR\"\n",
    "}\n",
    "\n",
    "fulltext_db = DuckStoreInterface(db_name=\"./duckmemory.db\", table=\"fulltext\", schemas=schemas)\n",
    "fulltext_db.create_table()"
   ]
  },
  {
   "cell_type": "code",
   "execution_count": 23,
   "id": "2cbf3592-8438-458a-85ca-15ec236135dd",
   "metadata": {},
   "outputs": [
    {
     "data": {
      "text/html": [
       "<div>\n",
       "<style scoped>\n",
       "    .dataframe tbody tr th:only-of-type {\n",
       "        vertical-align: middle;\n",
       "    }\n",
       "\n",
       "    .dataframe tbody tr th {\n",
       "        vertical-align: top;\n",
       "    }\n",
       "\n",
       "    .dataframe thead th {\n",
       "        text-align: right;\n",
       "    }\n",
       "</style>\n",
       "<table border=\"1\" class=\"dataframe\">\n",
       "  <thead>\n",
       "    <tr style=\"text-align: right;\">\n",
       "      <th></th>\n",
       "      <th>id</th>\n",
       "      <th>target_field</th>\n",
       "    </tr>\n",
       "  </thead>\n",
       "  <tbody>\n",
       "    <tr>\n",
       "      <th>0</th>\n",
       "      <td>a</td>\n",
       "      <td>pandas</td>\n",
       "    </tr>\n",
       "    <tr>\n",
       "      <th>1</th>\n",
       "      <td>b</td>\n",
       "      <td>pandee</td>\n",
       "    </tr>\n",
       "    <tr>\n",
       "      <th>2</th>\n",
       "      <td>c</td>\n",
       "      <td>pandos</td>\n",
       "    </tr>\n",
       "    <tr>\n",
       "      <th>3</th>\n",
       "      <td>d</td>\n",
       "      <td>PANDAS</td>\n",
       "    </tr>\n",
       "  </tbody>\n",
       "</table>\n",
       "</div>"
      ],
      "text/plain": [
       "  id target_field\n",
       "0  a       pandas\n",
       "1  b       pandee\n",
       "2  c       pandos\n",
       "3  d       PANDAS"
      ]
     },
     "execution_count": 23,
     "metadata": {},
     "output_type": "execute_result"
    }
   ],
   "source": [
    "ids = [\"a\", \"b\", \"c\", \"d\"]\n",
    "targets = [\"pandas\", \"pandee\", \"pandos\", \"PANDAS\"]\n",
    "data = \", \".join([f\"('{i}', '{t}')\" for i, t in zip(ids, targets)])\n",
    "\n",
    "fulltext_db.add(fields=['id', 'target_field'], data=data)\n",
    "fulltext_db.read()"
   ]
  },
  {
   "cell_type": "code",
   "execution_count": 24,
   "id": "764b9c82-d9ea-47e6-a5f1-78da6362e70d",
   "metadata": {},
   "outputs": [],
   "source": [
    "def create_fts_index(db:DuckStoreInterface, fields:List[str]):\n",
    "    db_name = db.db_name\n",
    "    table = db.table\n",
    "    params = \", \".join([f\"'{f}'\" for f in fields])\n",
    "    query=f\"\"\"\n",
    "    INSTALL fts;\n",
    "    LOAD fts;\n",
    "    PRAGMA create_fts_index(\n",
    "        '{table}', {params}, overwrite=1\n",
    "    );\n",
    "    \"\"\".strip()\n",
    "    with duckdb.connect(db_name) as con:\n",
    "        con.sql(query)"
   ]
  },
  {
   "cell_type": "code",
   "execution_count": 25,
   "id": "142f3d95-cbd2-47a1-aac1-0c04771ddf17",
   "metadata": {},
   "outputs": [],
   "source": [
    "create_fts_index(db=fulltext_db, fields=[\"id\", \"target_field\"])"
   ]
  },
  {
   "cell_type": "code",
   "execution_count": 26,
   "id": "ec2ed2b2-808d-4842-8c94-8c6142822a17",
   "metadata": {},
   "outputs": [
    {
     "data": {
      "text/html": [
       "<div>\n",
       "<style scoped>\n",
       "    .dataframe tbody tr th:only-of-type {\n",
       "        vertical-align: middle;\n",
       "    }\n",
       "\n",
       "    .dataframe tbody tr th {\n",
       "        vertical-align: top;\n",
       "    }\n",
       "\n",
       "    .dataframe thead th {\n",
       "        text-align: right;\n",
       "    }\n",
       "</style>\n",
       "<table border=\"1\" class=\"dataframe\">\n",
       "  <thead>\n",
       "    <tr style=\"text-align: right;\">\n",
       "      <th></th>\n",
       "      <th>id</th>\n",
       "      <th>target_field</th>\n",
       "    </tr>\n",
       "  </thead>\n",
       "  <tbody>\n",
       "    <tr>\n",
       "      <th>0</th>\n",
       "      <td>a</td>\n",
       "      <td>pandas</td>\n",
       "    </tr>\n",
       "    <tr>\n",
       "      <th>1</th>\n",
       "      <td>b</td>\n",
       "      <td>pandee</td>\n",
       "    </tr>\n",
       "    <tr>\n",
       "      <th>2</th>\n",
       "      <td>c</td>\n",
       "      <td>pandos</td>\n",
       "    </tr>\n",
       "    <tr>\n",
       "      <th>3</th>\n",
       "      <td>d</td>\n",
       "      <td>PANDAS</td>\n",
       "    </tr>\n",
       "  </tbody>\n",
       "</table>\n",
       "</div>"
      ],
      "text/plain": [
       "  id target_field\n",
       "0  a       pandas\n",
       "1  b       pandee\n",
       "2  c       pandos\n",
       "3  d       PANDAS"
      ]
     },
     "execution_count": 26,
     "metadata": {},
     "output_type": "execute_result"
    }
   ],
   "source": [
    "fulltext_db.read()"
   ]
  },
  {
   "cell_type": "code",
   "execution_count": 27,
   "id": "46bc1c36-b93b-4197-a2c6-e37e4efce235",
   "metadata": {},
   "outputs": [],
   "source": [
    "def fts_bm25(db:DuckStoreInterface, search_term:str, id_field, search_field:str):\n",
    "    db_name = db.db_name\n",
    "    table = db.table\n",
    "    query = f\"\"\"\\\n",
    "    SELECT *\n",
    "    FROM (\n",
    "        SELECT *, fts_main_{table}.match_bm25(\n",
    "            {id_field},\n",
    "            '{search_term}',\n",
    "            fields := '{search_field}'\n",
    "        ) AS score\n",
    "        FROM {table}\n",
    "    ) sq\n",
    "    ORDER BY score DESC;\n",
    "    \"\"\"\n",
    "    with duckdb.connect(db_name) as con:\n",
    "        df = con.sql(query).to_df()\n",
    "    return df"
   ]
  },
  {
   "cell_type": "code",
   "execution_count": 28,
   "id": "2ed811b1-b4c9-40f3-9d76-8195b2c7b94d",
   "metadata": {},
   "outputs": [
    {
     "data": {
      "text/html": [
       "<div>\n",
       "<style scoped>\n",
       "    .dataframe tbody tr th:only-of-type {\n",
       "        vertical-align: middle;\n",
       "    }\n",
       "\n",
       "    .dataframe tbody tr th {\n",
       "        vertical-align: top;\n",
       "    }\n",
       "\n",
       "    .dataframe thead th {\n",
       "        text-align: right;\n",
       "    }\n",
       "</style>\n",
       "<table border=\"1\" class=\"dataframe\">\n",
       "  <thead>\n",
       "    <tr style=\"text-align: right;\">\n",
       "      <th></th>\n",
       "      <th>id</th>\n",
       "      <th>target_field</th>\n",
       "      <th>score</th>\n",
       "    </tr>\n",
       "  </thead>\n",
       "  <tbody>\n",
       "    <tr>\n",
       "      <th>0</th>\n",
       "      <td>a</td>\n",
       "      <td>pandas</td>\n",
       "      <td>NaN</td>\n",
       "    </tr>\n",
       "    <tr>\n",
       "      <th>1</th>\n",
       "      <td>b</td>\n",
       "      <td>pandee</td>\n",
       "      <td>NaN</td>\n",
       "    </tr>\n",
       "    <tr>\n",
       "      <th>2</th>\n",
       "      <td>c</td>\n",
       "      <td>pandos</td>\n",
       "      <td>NaN</td>\n",
       "    </tr>\n",
       "    <tr>\n",
       "      <th>3</th>\n",
       "      <td>d</td>\n",
       "      <td>PANDAS</td>\n",
       "      <td>NaN</td>\n",
       "    </tr>\n",
       "  </tbody>\n",
       "</table>\n",
       "</div>"
      ],
      "text/plain": [
       "  id target_field  score\n",
       "0  a       pandas    NaN\n",
       "1  b       pandee    NaN\n",
       "2  c       pandos    NaN\n",
       "3  d       PANDAS    NaN"
      ]
     },
     "execution_count": 28,
     "metadata": {},
     "output_type": "execute_result"
    }
   ],
   "source": [
    "fts_bm25(db=fulltext_db, search_term=\"pand\", id_field=\"id\", search_field=\"target_field\")"
   ]
  },
  {
   "cell_type": "code",
   "execution_count": 29,
   "id": "a47fd3ae-36a7-4387-8572-9b2add5df35d",
   "metadata": {},
   "outputs": [],
   "source": [
    "fulltext_db.delete_table()"
   ]
  }
 ],
 "metadata": {
  "kernelspec": {
   "display_name": "broai",
   "language": "python",
   "name": "broai"
  },
  "language_info": {
   "codemirror_mode": {
    "name": "ipython",
    "version": 3
   },
   "file_extension": ".py",
   "mimetype": "text/x-python",
   "name": "python",
   "nbconvert_exporter": "python",
   "pygments_lexer": "ipython3",
   "version": "3.11.12"
  }
 },
 "nbformat": 4,
 "nbformat_minor": 5
}
