{
 "cells": [
  {
   "cell_type": "code",
   "execution_count": 1,
   "id": "43990ce4-8ab6-4f9c-98dc-55b22c863ee7",
   "metadata": {},
   "outputs": [
    {
     "data": {
      "text/html": [
       "<pre style=\"white-space:pre;overflow-x:auto;line-height:normal;font-family:Menlo,'DejaVu Sans Mono',consolas,'Courier New',monospace\"><span style=\"color: #008000; text-decoration-color: #008000; font-weight: bold\">[✔] Created folder </span><span style=\"color: #008000; text-decoration-color: #008000; font-weight: bold\">'agents/'</span>\n",
       "</pre>\n"
      ],
      "text/plain": [
       "\u001b[1;32m[\u001b[0m\u001b[1;32m✔\u001b[0m\u001b[1;32m]\u001b[0m\u001b[1;32m Created folder \u001b[0m\u001b[1;32m'agents/'\u001b[0m\n"
      ]
     },
     "metadata": {},
     "output_type": "display_data"
    },
    {
     "data": {
      "text/html": [
       "<pre style=\"white-space:pre;overflow-x:auto;line-height:normal;font-family:Menlo,'DejaVu Sans Mono',consolas,'Courier New',monospace\"><span style=\"color: #008000; text-decoration-color: #008000; font-weight: bold\">[✔] Created file </span><span style=\"color: #008000; text-decoration-color: #008000; font-weight: bold\">'agents/__init__.py'</span>\n",
       "</pre>\n"
      ],
      "text/plain": [
       "\u001b[1;32m[\u001b[0m\u001b[1;32m✔\u001b[0m\u001b[1;32m]\u001b[0m\u001b[1;32m Created file \u001b[0m\u001b[1;32m'agents/__init__.py'\u001b[0m\n"
      ]
     },
     "metadata": {},
     "output_type": "display_data"
    },
    {
     "data": {
      "text/html": [
       "<pre style=\"white-space:pre;overflow-x:auto;line-height:normal;font-family:Menlo,'DejaVu Sans Mono',consolas,'Courier New',monospace\"><span style=\"color: #008000; text-decoration-color: #008000; font-weight: bold\">[✔] Copied </span><span style=\"color: #008000; text-decoration-color: #008000; font-weight: bold\">'agent_template.py'</span><span style=\"color: #008000; text-decoration-color: #008000; font-weight: bold\"> to </span><span style=\"color: #008000; text-decoration-color: #008000; font-weight: bold\">'agents/agent_template.py'</span>\n",
       "</pre>\n"
      ],
      "text/plain": [
       "\u001b[1;32m[\u001b[0m\u001b[1;32m✔\u001b[0m\u001b[1;32m]\u001b[0m\u001b[1;32m Copied \u001b[0m\u001b[1;32m'agent_template.py'\u001b[0m\u001b[1;32m to \u001b[0m\u001b[1;32m'agents/agent_template.py'\u001b[0m\n"
      ]
     },
     "metadata": {},
     "output_type": "display_data"
    }
   ],
   "source": [
    "from broai.cli.cli import jupyter_init\n",
    "jupyter_init()"
   ]
  },
  {
   "cell_type": "code",
   "execution_count": 2,
   "id": "45c838f7-6a67-4014-b8e1-0d6c65319cac",
   "metadata": {},
   "outputs": [
    {
     "data": {
      "text/html": [
       "<pre style=\"white-space:pre;overflow-x:auto;line-height:normal;font-family:Menlo,'DejaVu Sans Mono',consolas,'Courier New',monospace\"><span style=\"color: #800000; text-decoration-color: #800000; font-weight: bold\">[✖] Folder </span><span style=\"color: #800000; text-decoration-color: #800000; font-weight: bold\">'agents/'</span><span style=\"color: #800000; text-decoration-color: #800000; font-weight: bold\"> already exists.</span>\n",
       "</pre>\n"
      ],
      "text/plain": [
       "\u001b[1;31m[\u001b[0m\u001b[1;31m✖\u001b[0m\u001b[1;31m]\u001b[0m\u001b[1;31m Folder \u001b[0m\u001b[1;31m'agents/'\u001b[0m\u001b[1;31m already exists.\u001b[0m\n"
      ]
     },
     "metadata": {},
     "output_type": "display_data"
    }
   ],
   "source": [
    "jupyter_init()"
   ]
  },
  {
   "cell_type": "code",
   "execution_count": null,
   "id": "ed0d8623-7a02-4113-af47-f727486ef880",
   "metadata": {},
   "outputs": [],
   "source": []
  }
 ],
 "metadata": {
  "kernelspec": {
   "display_name": "broai",
   "language": "python",
   "name": "broai"
  },
  "language_info": {
   "codemirror_mode": {
    "name": "ipython",
    "version": 3
   },
   "file_extension": ".py",
   "mimetype": "text/x-python",
   "name": "python",
   "nbconvert_exporter": "python",
   "pygments_lexer": "ipython3",
   "version": "3.11.12"
  }
 },
 "nbformat": 4,
 "nbformat_minor": 5
}
