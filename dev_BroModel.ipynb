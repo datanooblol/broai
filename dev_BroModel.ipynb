{
 "cells": [
  {
   "cell_type": "code",
   "execution_count": 1,
   "id": "2deb0c24-f3af-4fe8-b49f-2af78a561f9c",
   "metadata": {},
   "outputs": [],
   "source": [
    "%load_ext autoreload\n",
    "%autoreload 2"
   ]
  },
  {
   "cell_type": "code",
   "execution_count": 3,
   "id": "6af5e7dd-2f69-4d4b-bf9a-2bb8c6bed709",
   "metadata": {},
   "outputs": [],
   "source": [
    "import json\n",
    "from typing import Optional, Union"
   ]
  },
  {
   "cell_type": "code",
   "execution_count": 4,
   "id": "cb26fdb3-2727-4298-a9ce-bc551dccf4c0",
   "metadata": {},
   "outputs": [],
   "source": [
    "from broai import BroModel, BroField"
   ]
  },
  {
   "cell_type": "code",
   "execution_count": 15,
   "id": "8aa1750e-b1f5-47c7-b9c7-830b028e2d3b",
   "metadata": {},
   "outputs": [],
   "source": [
    "class Metric(BroModel):\n",
    "    \"\"\"This is a key metric used in a business.\"\"\"\n",
    "    name:str = BroField(description=\"a metric name\", default=\"conversion rate\")\n",
    "    description:str = BroField(description=\"a metris description\")\n",
    "    formula:Optional[str] = BroField(description=\"a formula of something\", default=\"not found\")"
   ]
  },
  {
   "cell_type": "code",
   "execution_count": 16,
   "id": "0ebd429a-3999-4ad8-933d-1d555284b88f",
   "metadata": {},
   "outputs": [
    {
     "data": {
      "text/plain": [
       "{'name': FieldInfo(annotation=str, required=False, default='conversion rate', description='a metric name', json_schema_extra={'example': 'conversion rate'}),\n",
       " 'description': FieldInfo(annotation=str, required=False, default=None, description='a metris description', json_schema_extra={'example': None}),\n",
       " 'formula': FieldInfo(annotation=Union[str, NoneType], required=False, default='not found', description='a formula of something', json_schema_extra={'example': 'not found'})}"
      ]
     },
     "execution_count": 16,
     "metadata": {},
     "output_type": "execute_result"
    }
   ],
   "source": [
    "Metric.model_fields"
   ]
  },
  {
   "cell_type": "code",
   "execution_count": 27,
   "id": "5a80f75f-edf7-4a8b-b0d8-cd1f12322d78",
   "metadata": {},
   "outputs": [
    {
     "name": "stdout",
     "output_type": "stream",
     "text": [
      "Output: {'name': FieldInfo(annotation=str, required=False, default='conversion rate', description='a metric name', json_schema_extra={'example': 'conversion rate'}), 'description': FieldInfo(annotation=str, required=False, default=None, description='a metric description', json_schema_extra={'example': None}), 'formula': FieldInfo(annotation=Union[str, NoneType], required=False, default='not found', description='a formula of something', json_schema_extra={'example': 'not found'})}\n"
     ]
    }
   ],
   "source": [
    "import io\n",
    "import sys\n",
    "\n",
    "script = '''\\\n",
    "from broai import BroModel, BroField\n",
    "from typing import Optional\n",
    "\n",
    "class Metric(BroModel):\n",
    "    \"\"\"This is a key metric used in a business.\"\"\"\n",
    "    name: str = BroField(description=\"a metric name\", default=\"conversion rate\")\n",
    "    description: str = BroField(description=\"a metric description\")\n",
    "    formula: Optional[str] = BroField(description=\"a formula of something\", default=\"not found\")\n",
    "\n",
    "output = Metric.model_fields\n",
    "'''\n",
    "\n",
    "# Create a namespace dictionary for execution\n",
    "namespace = {}\n",
    "\n",
    "# Execute the script within this namespace\n",
    "exec(script, namespace)\n",
    "\n",
    "# Retrieve the `output` variable from the namespace\n",
    "output = namespace.get('output')\n",
    "\n",
    "print(\"Output:\", output)\n"
   ]
  },
  {
   "cell_type": "code",
   "execution_count": 28,
   "id": "94681368-54e4-42fa-9828-aa84264e0909",
   "metadata": {},
   "outputs": [
    {
     "data": {
      "text/plain": [
       "{'name': FieldInfo(annotation=str, required=False, default='conversion rate', description='a metric name', json_schema_extra={'example': 'conversion rate'}),\n",
       " 'description': FieldInfo(annotation=str, required=False, default=None, description='a metric description', json_schema_extra={'example': None}),\n",
       " 'formula': FieldInfo(annotation=Union[str, NoneType], required=False, default='not found', description='a formula of something', json_schema_extra={'example': 'not found'})}"
      ]
     },
     "execution_count": 28,
     "metadata": {},
     "output_type": "execute_result"
    }
   ],
   "source": [
    "output"
   ]
  },
  {
   "cell_type": "code",
   "execution_count": 25,
   "id": "c133665b-1ce5-404e-b168-1fa1261b961c",
   "metadata": {},
   "outputs": [],
   "source": [
    "exec(script)"
   ]
  },
  {
   "cell_type": "code",
   "execution_count": 8,
   "id": "2e82fa38-bfe3-496b-9866-d10fb5ca9ef9",
   "metadata": {},
   "outputs": [
    {
     "data": {
      "text/plain": [
       "type"
      ]
     },
     "execution_count": 8,
     "metadata": {},
     "output_type": "execute_result"
    }
   ],
   "source": [
    "type(Metric.model_fields['name'].annotation)"
   ]
  },
  {
   "cell_type": "code",
   "execution_count": 11,
   "id": "f13bb6fa-e2d5-498d-b707-5c486a1bd911",
   "metadata": {},
   "outputs": [
    {
     "data": {
      "text/plain": [
       "pydantic.fields.FieldInfo"
      ]
     },
     "execution_count": 11,
     "metadata": {},
     "output_type": "execute_result"
    }
   ],
   "source": [
    "type(Metric.model_fields['name'])"
   ]
  },
  {
   "cell_type": "code",
   "execution_count": 22,
   "id": "088d0756-e0cf-4fd0-819e-296f8deef51f",
   "metadata": {},
   "outputs": [],
   "source": [
    "from pydantic.fields import FieldInfo\n",
    "from pydantic import Field, BaseModel"
   ]
  },
  {
   "cell_type": "code",
   "execution_count": 23,
   "id": "79378bf3-dccf-4abb-8784-095028347096",
   "metadata": {},
   "outputs": [
    {
     "data": {
      "text/plain": [
       "FieldInfo(annotation=NoneType, required=True, description='test')"
      ]
     },
     "execution_count": 23,
     "metadata": {},
     "output_type": "execute_result"
    }
   ],
   "source": [
    "Field(description=\"test\")"
   ]
  },
  {
   "cell_type": "code",
   "execution_count": 24,
   "id": "5adc90d9-5619-4b23-9b4a-f745a992fd11",
   "metadata": {},
   "outputs": [
    {
     "data": {
      "text/plain": [
       "FieldInfo(annotation=str, required=True, description='test')"
      ]
     },
     "execution_count": 24,
     "metadata": {},
     "output_type": "execute_result"
    }
   ],
   "source": [
    "FieldInfo(annotation=str, description=\"test\")"
   ]
  },
  {
   "cell_type": "code",
   "execution_count": 62,
   "id": "7a7a5222-7919-4906-9956-852d52d3e05c",
   "metadata": {},
   "outputs": [
    {
     "data": {
      "text/plain": [
       "{'id': FieldInfo(annotation=str, required=True),\n",
       " 'age': FieldInfo(annotation=int, required=True)}"
      ]
     },
     "execution_count": 62,
     "metadata": {},
     "output_type": "execute_result"
    }
   ],
   "source": [
    "class Test(BaseModel):\n",
    "    id:str = FieldInfo()\n",
    "    age:int = FieldInfo()\n",
    "Test.model_fields"
   ]
  },
  {
   "cell_type": "code",
   "execution_count": 63,
   "id": "182cfb88-1dc3-4670-bb95-8845b18c16cc",
   "metadata": {},
   "outputs": [
    {
     "data": {
      "text/plain": [
       "{'id': str, 'age': int}"
      ]
     },
     "execution_count": 63,
     "metadata": {},
     "output_type": "execute_result"
    }
   ],
   "source": [
    "Test.__annotations__"
   ]
  },
  {
   "cell_type": "code",
   "execution_count": 32,
   "id": "ebc8c67e-7a6f-4cb3-aadc-6c76d013d2d7",
   "metadata": {},
   "outputs": [
    {
     "data": {
      "text/plain": [
       "{'id': FieldInfo(annotation=str, required=True),\n",
       " 'age': FieldInfo(annotation=int, required=True)}"
      ]
     },
     "execution_count": 32,
     "metadata": {},
     "output_type": "execute_result"
    }
   ],
   "source": [
    "class Test(BaseModel):\n",
    "    id:str = Field()\n",
    "    age:int = Field()\n",
    "Test.model_fields"
   ]
  },
  {
   "cell_type": "code",
   "execution_count": 30,
   "id": "cf0f5a72-4dfc-44a8-ae3c-336371015766",
   "metadata": {},
   "outputs": [
    {
     "data": {
      "text/plain": [
       "{'id': FieldInfo(annotation=str, required=True),\n",
       " 'age': FieldInfo(annotation=int, required=True)}"
      ]
     },
     "execution_count": 30,
     "metadata": {},
     "output_type": "execute_result"
    }
   ],
   "source": [
    "Test.model_fields"
   ]
  },
  {
   "cell_type": "code",
   "execution_count": 57,
   "id": "c38c29c2-2413-4823-82d2-ec90523bb64d",
   "metadata": {},
   "outputs": [],
   "source": [
    "class Test:\n",
    "    id:str = \"a\"\n",
    "    age:int = 5\n",
    "    test:Optional[int] = 5"
   ]
  },
  {
   "cell_type": "code",
   "execution_count": 58,
   "id": "a6dfe4db-5067-4fd8-8814-9807580cae29",
   "metadata": {},
   "outputs": [
    {
     "data": {
      "text/plain": [
       "'a'"
      ]
     },
     "execution_count": 58,
     "metadata": {},
     "output_type": "execute_result"
    }
   ],
   "source": [
    "Test.id"
   ]
  },
  {
   "cell_type": "code",
   "execution_count": 59,
   "id": "1ec8b83c-a82a-4a0f-b8d0-a9dfd0ec130c",
   "metadata": {},
   "outputs": [
    {
     "data": {
      "text/plain": [
       "5"
      ]
     },
     "execution_count": 59,
     "metadata": {},
     "output_type": "execute_result"
    }
   ],
   "source": [
    "Test.age"
   ]
  },
  {
   "cell_type": "code",
   "execution_count": 60,
   "id": "5d9f0408-cfae-41a5-bf69-4efe055bdabf",
   "metadata": {},
   "outputs": [
    {
     "data": {
      "text/plain": [
       "5"
      ]
     },
     "execution_count": 60,
     "metadata": {},
     "output_type": "execute_result"
    }
   ],
   "source": [
    "Test.test"
   ]
  },
  {
   "cell_type": "code",
   "execution_count": 61,
   "id": "11e73552-0921-4553-89db-7247f4f29aee",
   "metadata": {},
   "outputs": [
    {
     "data": {
      "text/plain": [
       "{'id': str, 'age': int, 'test': typing.Optional[int]}"
      ]
     },
     "execution_count": 61,
     "metadata": {},
     "output_type": "execute_result"
    }
   ],
   "source": [
    "Test.__annotations__"
   ]
  },
  {
   "cell_type": "code",
   "execution_count": 55,
   "id": "c4c34393-a594-4490-8c12-f4cf99b35758",
   "metadata": {},
   "outputs": [
    {
     "data": {
      "text/plain": [
       "['__annotations__',\n",
       " '__class__',\n",
       " '__delattr__',\n",
       " '__dict__',\n",
       " '__dir__',\n",
       " '__doc__',\n",
       " '__eq__',\n",
       " '__format__',\n",
       " '__ge__',\n",
       " '__getattribute__',\n",
       " '__getstate__',\n",
       " '__gt__',\n",
       " '__hash__',\n",
       " '__init__',\n",
       " '__init_subclass__',\n",
       " '__le__',\n",
       " '__lt__',\n",
       " '__module__',\n",
       " '__ne__',\n",
       " '__new__',\n",
       " '__reduce__',\n",
       " '__reduce_ex__',\n",
       " '__repr__',\n",
       " '__setattr__',\n",
       " '__sizeof__',\n",
       " '__str__',\n",
       " '__subclasshook__',\n",
       " '__weakref__',\n",
       " 'age',\n",
       " 'id',\n",
       " 'test']"
      ]
     },
     "execution_count": 55,
     "metadata": {},
     "output_type": "execute_result"
    }
   ],
   "source": [
    "dir(Test)"
   ]
  },
  {
   "cell_type": "code",
   "execution_count": 43,
   "id": "2c608091-a812-4b1c-bff8-500b1c305ebc",
   "metadata": {},
   "outputs": [
    {
     "data": {
      "text/plain": [
       "'b'"
      ]
     },
     "execution_count": 43,
     "metadata": {},
     "output_type": "execute_result"
    }
   ],
   "source": [
    "Test.id = \"b\"\n",
    "Test.id"
   ]
  },
  {
   "cell_type": "code",
   "execution_count": 81,
   "id": "93e665c0-bd32-4011-8989-9f531e26acdd",
   "metadata": {},
   "outputs": [
    {
     "name": "stdout",
     "output_type": "stream",
     "text": [
      "{'id': <class 'str'>, 'age': <class 'int'>, 'test': <class 'str'>}\n",
      "{}\n",
      "{'id': <class 'str'>, 'age': <class 'int'>, 'test': <class 'str'>}\n"
     ]
    }
   ],
   "source": [
    "from pydantic import BaseModel, Field\n",
    "from typing import Optional\n",
    "\n",
    "class TestPydantic(BaseModel):\n",
    "    id:str\n",
    "    age:int\n",
    "    test:str\n",
    "\n",
    "TestPydantic(id=\"1\", age=1, test=\"test\")\n",
    "print(TestPydantic.__annotations__)\n",
    "\n",
    "class TestClass:\n",
    "    def __init__(self, id:str, age:int, test:str):\n",
    "        self.id = id\n",
    "        self.age = age\n",
    "        self.test = test\n",
    "\n",
    "TestClass(id=\"1\", age=1, test=\"test\")\n",
    "print(TestClass.__annotations__)\n",
    "\n",
    "class TestClass2:\n",
    "    id:str\n",
    "    age:int\n",
    "    test:str\n",
    "    \n",
    "    def __new__(cls, id, age, test):\n",
    "        return super(cls)\n",
    "\n",
    "TestClass2(id=\"1\", age=1, test=\"test\")\n",
    "print(TestClass2.__annotations__)"
   ]
  },
  {
   "cell_type": "code",
   "execution_count": 72,
   "id": "d4def762-9655-4734-a45b-87da02ab7504",
   "metadata": {},
   "outputs": [
    {
     "data": {
      "text/plain": [
       "['__annotations__',\n",
       " '__class__',\n",
       " '__delattr__',\n",
       " '__dict__',\n",
       " '__dir__',\n",
       " '__doc__',\n",
       " '__eq__',\n",
       " '__format__',\n",
       " '__ge__',\n",
       " '__getattribute__',\n",
       " '__getstate__',\n",
       " '__gt__',\n",
       " '__hash__',\n",
       " '__init__',\n",
       " '__init_subclass__',\n",
       " '__le__',\n",
       " '__lt__',\n",
       " '__module__',\n",
       " '__ne__',\n",
       " '__new__',\n",
       " '__reduce__',\n",
       " '__reduce_ex__',\n",
       " '__repr__',\n",
       " '__setattr__',\n",
       " '__sizeof__',\n",
       " '__str__',\n",
       " '__subclasshook__',\n",
       " '__weakref__']"
      ]
     },
     "execution_count": 72,
     "metadata": {},
     "output_type": "execute_result"
    }
   ],
   "source": [
    "dir(TestClass)"
   ]
  },
  {
   "cell_type": "code",
   "execution_count": 73,
   "id": "6af94ac5-3f4b-4e8b-924c-e3ae7ff853a1",
   "metadata": {},
   "outputs": [
    {
     "ename": "TypeError",
     "evalue": "TestClass.__init__() missing 4 required positional arguments: 'self', 'id', 'age', and 'test'",
     "output_type": "error",
     "traceback": [
      "\u001b[1;31m------------------------------------------------------------------\u001b[0m",
      "\u001b[1;31mTypeError\u001b[0m                        Traceback (most recent call last)",
      "Cell \u001b[1;32mIn[73], line 1\u001b[0m\n\u001b[1;32m----> 1\u001b[0m \u001b[43mTestClass\u001b[49m\u001b[38;5;241;43m.\u001b[39;49m\u001b[38;5;21;43m__init__\u001b[39;49m\u001b[43m(\u001b[49m\u001b[43m)\u001b[49m\n",
      "\u001b[1;31mTypeError\u001b[0m: TestClass.__init__() missing 4 required positional arguments: 'self', 'id', 'age', and 'test'"
     ]
    }
   ],
   "source": [
    "TestClass.__init__()"
   ]
  },
  {
   "cell_type": "code",
   "execution_count": 74,
   "id": "661dacb0-fcd3-46df-b29f-d9a1d4df6998",
   "metadata": {},
   "outputs": [
    {
     "ename": "TypeError",
     "evalue": "descriptor '__init__' of 'object' object needs an argument",
     "output_type": "error",
     "traceback": [
      "\u001b[1;31m------------------------------------------------------------------\u001b[0m",
      "\u001b[1;31mTypeError\u001b[0m                        Traceback (most recent call last)",
      "Cell \u001b[1;32mIn[74], line 1\u001b[0m\n\u001b[1;32m----> 1\u001b[0m \u001b[43mTestClass2\u001b[49m\u001b[38;5;241;43m.\u001b[39;49m\u001b[38;5;21;43m__init__\u001b[39;49m\u001b[43m(\u001b[49m\u001b[43m)\u001b[49m\n",
      "\u001b[1;31mTypeError\u001b[0m: descriptor '__init__' of 'object' object needs an argument"
     ]
    }
   ],
   "source": [
    "TestClass2.__init__()"
   ]
  },
  {
   "cell_type": "code",
   "execution_count": 70,
   "id": "c2e4a2ab-66c5-49fe-8b91-005e6b20e1f9",
   "metadata": {},
   "outputs": [
    {
     "data": {
      "text/plain": [
       "['__annotations__',\n",
       " '__class__',\n",
       " '__delattr__',\n",
       " '__dict__',\n",
       " '__dir__',\n",
       " '__doc__',\n",
       " '__eq__',\n",
       " '__format__',\n",
       " '__ge__',\n",
       " '__getattribute__',\n",
       " '__getstate__',\n",
       " '__gt__',\n",
       " '__hash__',\n",
       " '__init__',\n",
       " '__init_subclass__',\n",
       " '__le__',\n",
       " '__lt__',\n",
       " '__module__',\n",
       " '__ne__',\n",
       " '__new__',\n",
       " '__reduce__',\n",
       " '__reduce_ex__',\n",
       " '__repr__',\n",
       " '__setattr__',\n",
       " '__sizeof__',\n",
       " '__str__',\n",
       " '__subclasshook__',\n",
       " '__weakref__']"
      ]
     },
     "execution_count": 70,
     "metadata": {},
     "output_type": "execute_result"
    }
   ],
   "source": [
    "dir(TestClass2)"
   ]
  },
  {
   "cell_type": "code",
   "execution_count": 66,
   "id": "c038b2be-f7f8-4bab-89f9-2dd97f8c1048",
   "metadata": {},
   "outputs": [],
   "source": [
    "from pydantic import BaseModel, Field\n",
    "from typing import Optional, Type\n",
    "\n",
    "class EzORMMeta(type(BaseModel)):\n",
    "    \"\"\"This is a metaclass to create __table__ that will be used in later step\n",
    "    Args:\n",
    "        name (str) : the input class name\n",
    "        bases (any) : abc\n",
    "        dct (dict) : this is the annotation of pydantic BaseModel\n",
    "        table (str) : a specified table name\n",
    "\n",
    "    Note:\n",
    "        This will be inspected and debugged later.\n",
    "    \"\"\"\n",
    "    def __new__(cls, name:str, bases, dct:dict, table:str=None):\n",
    "        new_class = super().__new__(cls, name, bases, dct)\n",
    "        setattr(new_class, \"__table__\", table if table else name.lower())\n",
    "        return new_class\n",
    "\n",
    "class EzORM(BaseModel, metaclass=EzORMMeta):\n",
    "    \"\"\"This is a base class for EzORM\"\"\""
   ]
  },
  {
   "cell_type": "code",
   "execution_count": 67,
   "id": "18df50f7-8c78-44ec-b8bb-b0e2a81345f3",
   "metadata": {},
   "outputs": [
    {
     "name": "stdout",
     "output_type": "stream",
     "text": [
      "{'id': <class 'str'>, 'age': <class 'int'>, 'test': <class 'str'>}\n"
     ]
    }
   ],
   "source": [
    "class TestEzOrm(EzORM):\n",
    "    id:str\n",
    "    age:int\n",
    "    test:str\n",
    "\n",
    "print(TestEzOrm.__annotations__)"
   ]
  },
  {
   "cell_type": "code",
   "execution_count": 91,
   "id": "e21ae38f-74f3-4548-94ec-4c5fdc00767d",
   "metadata": {},
   "outputs": [
    {
     "name": "stdout",
     "output_type": "stream",
     "text": [
      "Creating class MyClass\n",
      "Value: 10\n"
     ]
    }
   ],
   "source": [
    "# Step 1: Define a simple metaclass\n",
    "class MyMeta(type):\n",
    "    def __new__(cls, name, bases, dct):\n",
    "        print(f'Creating class {name}')\n",
    "        return super().__new__(cls, name, bases, dct)\n",
    "\n",
    "# Step 2: Define a class using the metaclass\n",
    "class MyClass(metaclass=MyMeta):\n",
    "    def __init__(self, value):\n",
    "        self.value = value\n",
    "\n",
    "    def show_value(self):\n",
    "        print(f'Value: {self.value}')\n",
    "\n",
    "# Step 3: Create an instance of the class\n",
    "obj = MyClass(10)\n",
    "obj.show_value()\n",
    "\n",
    "# ...existing code...\n"
   ]
  },
  {
   "cell_type": "code",
   "execution_count": 92,
   "id": "fd03e4bb-293a-435c-b6b6-98819f0c9630",
   "metadata": {},
   "outputs": [
    {
     "name": "stdout",
     "output_type": "stream",
     "text": [
      "1\n",
      "test\n"
     ]
    }
   ],
   "source": [
    "class Base:\n",
    "    \"\"\"you can do something right here that make the subclass return a new class\"\"\"\n",
    "    def __new__(cls, *args, **kwargs):\n",
    "        instance = super().__new__(cls)\n",
    "        for key, value in kwargs.items():\n",
    "            setattr(instance, key, value)\n",
    "        return instance\n",
    "\n",
    "class Test(Base):\n",
    "    id: int\n",
    "    name: str\n",
    "\n",
    "# expected output\n",
    "test = Test(id=1, name=\"test\")\n",
    "print(test.id)  # 1\n",
    "print(test.name)  # \"test\"\n"
   ]
  },
  {
   "cell_type": "code",
   "execution_count": 93,
   "id": "15691ff8-826d-4ae7-bbf3-248baa12fbe6",
   "metadata": {},
   "outputs": [
    {
     "data": {
      "text/plain": [
       "{'id': int, 'name': str}"
      ]
     },
     "execution_count": 93,
     "metadata": {},
     "output_type": "execute_result"
    }
   ],
   "source": [
    "Test.__annotations__"
   ]
  },
  {
   "cell_type": "code",
   "execution_count": 98,
   "id": "5987a1d7-baa1-474e-97c6-e5cb2d31205b",
   "metadata": {},
   "outputs": [
    {
     "data": {
      "text/plain": [
       "{'id': int, 'name': str}"
      ]
     },
     "execution_count": 98,
     "metadata": {},
     "output_type": "execute_result"
    }
   ],
   "source": [
    "test.__annotations__"
   ]
  },
  {
   "cell_type": "code",
   "execution_count": 101,
   "id": "397a8e80-c3ac-4dbe-a66f-41e022c79395",
   "metadata": {},
   "outputs": [
    {
     "data": {
      "text/plain": [
       "['__annotations__',\n",
       " '__class__',\n",
       " '__delattr__',\n",
       " '__dict__',\n",
       " '__dir__',\n",
       " '__doc__',\n",
       " '__eq__',\n",
       " '__format__',\n",
       " '__ge__',\n",
       " '__getattribute__',\n",
       " '__getstate__',\n",
       " '__gt__',\n",
       " '__hash__',\n",
       " '__init__',\n",
       " '__init_subclass__',\n",
       " '__le__',\n",
       " '__lt__',\n",
       " '__module__',\n",
       " '__ne__',\n",
       " '__new__',\n",
       " '__reduce__',\n",
       " '__reduce_ex__',\n",
       " '__repr__',\n",
       " '__setattr__',\n",
       " '__sizeof__',\n",
       " '__str__',\n",
       " '__subclasshook__',\n",
       " '__weakref__']"
      ]
     },
     "execution_count": 101,
     "metadata": {},
     "output_type": "execute_result"
    }
   ],
   "source": [
    "dir(Test)"
   ]
  },
  {
   "cell_type": "code",
   "execution_count": 100,
   "id": "edc7dc75-db5e-4f51-9a06-99ac1ed09c26",
   "metadata": {},
   "outputs": [
    {
     "data": {
      "text/plain": [
       "['__annotations__',\n",
       " '__class__',\n",
       " '__delattr__',\n",
       " '__dict__',\n",
       " '__dir__',\n",
       " '__doc__',\n",
       " '__eq__',\n",
       " '__format__',\n",
       " '__ge__',\n",
       " '__getattribute__',\n",
       " '__getstate__',\n",
       " '__gt__',\n",
       " '__hash__',\n",
       " '__init__',\n",
       " '__init_subclass__',\n",
       " '__le__',\n",
       " '__lt__',\n",
       " '__module__',\n",
       " '__ne__',\n",
       " '__new__',\n",
       " '__reduce__',\n",
       " '__reduce_ex__',\n",
       " '__repr__',\n",
       " '__setattr__',\n",
       " '__sizeof__',\n",
       " '__str__',\n",
       " '__subclasshook__',\n",
       " '__weakref__',\n",
       " 'id',\n",
       " 'name']"
      ]
     },
     "execution_count": 100,
     "metadata": {},
     "output_type": "execute_result"
    }
   ],
   "source": [
    "dir(test)"
   ]
  },
  {
   "cell_type": "code",
   "execution_count": 102,
   "id": "e0644ae6-9c05-497f-b6d8-ad2cb71bdb74",
   "metadata": {},
   "outputs": [],
   "source": [
    "class Test:\n",
    "    name:str = Field(description=\"Test\")"
   ]
  },
  {
   "cell_type": "code",
   "execution_count": 103,
   "id": "d558d636-4a47-48b3-a952-f8a5d48e206d",
   "metadata": {},
   "outputs": [
    {
     "data": {
      "text/plain": [
       "FieldInfo(annotation=NoneType, required=True, description='Test')"
      ]
     },
     "execution_count": 103,
     "metadata": {},
     "output_type": "execute_result"
    }
   ],
   "source": [
    "Test.name"
   ]
  },
  {
   "cell_type": "code",
   "execution_count": 108,
   "id": "c9e5037c-8aa9-4391-84fa-fe93905dfdf0",
   "metadata": {},
   "outputs": [
    {
     "data": {
      "text/plain": [
       "pydantic.fields.FieldInfo"
      ]
     },
     "execution_count": 108,
     "metadata": {},
     "output_type": "execute_result"
    }
   ],
   "source": [
    "type(Field())"
   ]
  },
  {
   "cell_type": "code",
   "execution_count": 158,
   "id": "afca0e6e-4137-4104-afc0-3069ac27dc64",
   "metadata": {},
   "outputs": [
    {
     "data": {
      "text/plain": [
       "(__main__.ModelMetaClass, __main__.ModelMetaClass, __main__.ModelMetaClass)"
      ]
     },
     "execution_count": 158,
     "metadata": {},
     "output_type": "execute_result"
    }
   ],
   "source": [
    "from abc import ABCMeta\n",
    "from typing import Any\n",
    "\n",
    "class ModelMetaClass(ABCMeta):\n",
    "    def __new__(cls, cls_name:str, bases, namespaces, **kwargs:Any):\n",
    "        # for i in [cls_name, bases, namespaces]:\n",
    "        #     print(type(i))\n",
    "        return super().__new__(cls, cls_name, bases, namespaces)\n",
    "\n",
    "class Base(metaclass=ModelMetaClass):\n",
    "    ...\n",
    "\n",
    "# class Base(ModelMetaClass):\n",
    "#     ...\n",
    "\n",
    "class Test(Base):\n",
    "    ...\n",
    "\n",
    "class Test1(Test):\n",
    "    ...\n",
    "type(Base), type(Test), type(Test1)"
   ]
  },
  {
   "cell_type": "code",
   "execution_count": 160,
   "id": "bf017a4b-6f0c-49cf-9f45-e9e57adb5a6e",
   "metadata": {},
   "outputs": [
    {
     "data": {
      "text/plain": [
       "(pydantic._internal._model_construction.ModelMetaclass,\n",
       " pydantic._internal._model_construction.ModelMetaclass,\n",
       " pydantic._internal._model_construction.ModelMetaclass)"
      ]
     },
     "execution_count": 160,
     "metadata": {},
     "output_type": "execute_result"
    }
   ],
   "source": [
    "from pydantic import BaseModel\n",
    "\n",
    "class Base(BaseModel):\n",
    "    ...\n",
    "\n",
    "# class Base(ModelMetaClass):\n",
    "#     ...\n",
    "\n",
    "class Test(Base):\n",
    "    ...\n",
    "\n",
    "class Test1(Test):\n",
    "    id:int\n",
    "type(Base), type(Test), type(Test1)"
   ]
  },
  {
   "cell_type": "code",
   "execution_count": 164,
   "id": "790e14b2-be64-4455-892d-254714578940",
   "metadata": {},
   "outputs": [
    {
     "name": "stdout",
     "output_type": "stream",
     "text": [
      "Status set to active\n",
      "Status set to inactive\n",
      "Status set to unknown\n"
     ]
    }
   ],
   "source": [
    "from typing_extensions import Literal, TypeAlias, Unpack, deprecated\n",
    "\n",
    "from typing_extensions import Literal\n",
    "\n",
    "def set_status(status: Literal[\"active\", \"inactive\", \"pending\"]) -> str:\n",
    "    return f\"Status set to {status}\"\n",
    "\n",
    "print(set_status(\"active\"))    # Works\n",
    "print(set_status(\"inactive\"))  # Works\n",
    "print(set_status(\"unknown\")) # Type checker error: Invalid value"
   ]
  },
  {
   "cell_type": "code",
   "execution_count": 165,
   "id": "54e3a9ff-88c9-4c74-b950-f137a96ef5e5",
   "metadata": {},
   "outputs": [
    {
     "name": "stdout",
     "output_type": "stream",
     "text": [
      "Status set to active\n",
      "Status set to inactive\n",
      "Status set to unknown\n",
      "5.0\n",
      "Hello, Alice! You are 30 years old.\n",
      "This function is deprecated.\n",
      "Use this function instead.\n"
     ]
    },
    {
     "name": "stderr",
     "output_type": "stream",
     "text": [
      "C:\\Users\\doublebank\\AppData\\Local\\Temp\\ipykernel_28988\\2677026116.py:63: DeprecationWarning: Use 'new_function' instead.\n",
      "  old_function()  # Works but will show a warning\n"
     ]
    }
   ],
   "source": [
    "from typing import overload, Union\n",
    "\n",
    "@overload\n",
    "def test(a: int) -> int: ...\n",
    "@overload\n",
    "def test(a: str) -> str: ...\n",
    "@overload\n",
    "def test(a: float) -> float: ...\n",
    "\n",
    "# Actual implementation\n",
    "def test(a: Union[int, str, float]):\n",
    "    return a\n",
    "\n",
    "tstr = test(\"a\")\n",
    "tint = test(1)\n",
    "tfloat = test(0.5)\n",
    "\n",
    "from typing_extensions import Literal, TypeAlias, Unpack, deprecated\n",
    "\n",
    "from typing_extensions import Literal\n",
    "\n",
    "def set_status(status: Literal[\"active\", \"inactive\", \"pending\"]) -> str:\n",
    "    return f\"Status set to {status}\"\n",
    "\n",
    "print(set_status(\"active\"))    # Works\n",
    "print(set_status(\"inactive\"))  # Works\n",
    "print(set_status(\"unknown\")) # Type checker error: Invalid value\n",
    "\n",
    "from typing_extensions import TypeAlias\n",
    "\n",
    "# Define an alias for a complex type\n",
    "Coordinates: TypeAlias = tuple[float, float]\n",
    "\n",
    "def get_distance(point1: Coordinates, point2: Coordinates) -> float:\n",
    "    # Dummy calculation for distance\n",
    "    return ((point2[0] - point1[0])**2 + (point2[1] - point1[1])**2)**0.5\n",
    "\n",
    "point_a: Coordinates = (0.0, 0.0)\n",
    "point_b: Coordinates = (3.0, 4.0)\n",
    "\n",
    "print(get_distance(point_a, point_b))  # Output: 5.0\n",
    "\n",
    "from typing_extensions import Unpack, TypedDict\n",
    "\n",
    "class Person(TypedDict):\n",
    "    name: str\n",
    "    age: int\n",
    "\n",
    "def greet(**info: Unpack[Person]) -> str:\n",
    "    return f\"Hello, {info['name']}! You are {info['age']} years old.\"\n",
    "\n",
    "print(greet(name=\"Alice\", age=30))  # Output: Hello, Alice! You are 30 years old.\n",
    "\n",
    "from typing_extensions import deprecated\n",
    "\n",
    "@deprecated(\"Use 'new_function' instead.\")\n",
    "def old_function() -> None:\n",
    "    print(\"This function is deprecated.\")\n",
    "\n",
    "def new_function() -> None:\n",
    "    print(\"Use this function instead.\")\n",
    "\n",
    "old_function()  # Works but will show a warning\n",
    "new_function()  # This is the preferred function"
   ]
  },
  {
   "cell_type": "code",
   "execution_count": 169,
   "id": "6ce2b838-b4a5-4590-8853-31a9641256ef",
   "metadata": {},
   "outputs": [
    {
     "data": {
      "text/plain": [
       "'Hello, alice! You are 30 years old.'"
      ]
     },
     "execution_count": 169,
     "metadata": {},
     "output_type": "execute_result"
    }
   ],
   "source": [
    "greet(b=5, name=\"alice\", age=30)"
   ]
  },
  {
   "cell_type": "code",
   "execution_count": 170,
   "id": "a7fcab80-24ff-4d59-88bc-017948c61b15",
   "metadata": {},
   "outputs": [
    {
     "name": "stdout",
     "output_type": "stream",
     "text": [
      "Final schema: {'type': 'object', 'properties': {}, 'title': 'Example Schema'}\n",
      "Final schema: {'type': 'object', 'properties': {}, 'validated': True}\n",
      "No extra schema provided.\n",
      "Final schema: {'type': 'object', 'properties': {}}\n"
     ]
    }
   ],
   "source": [
    "from typing import Callable, Any, Dict\n",
    "\n",
    "# Assume JsonDict is defined like this\n",
    "JsonDict = Dict[str, Any]\n",
    "\n",
    "def validate_schema(schema: JsonDict) -> None:\n",
    "    schema[\"validated\"] = True  # Modify the schema\n",
    "\n",
    "def process_schema(json_schema_extra: JsonDict | Callable[[JsonDict], None] | None):\n",
    "    schema = {\"type\": \"object\", \"properties\": {}}\n",
    "\n",
    "    if isinstance(json_schema_extra, dict):  # If it's a JSON-like dictionary\n",
    "        schema.update(json_schema_extra)\n",
    "    elif callable(json_schema_extra):       # If it's a callable function\n",
    "        json_schema_extra(schema)\n",
    "    elif json_schema_extra is None:         # If it's None\n",
    "        print(\"No extra schema provided.\")\n",
    "\n",
    "    print(\"Final schema:\", schema)\n",
    "\n",
    "# Example usage\n",
    "process_schema({\"title\": \"Example Schema\"})  # Direct dictionary\n",
    "process_schema(validate_schema)             # Function to modify schema\n",
    "process_schema(None)                        # No additional schema\n"
   ]
  },
  {
   "cell_type": "code",
   "execution_count": 171,
   "id": "d8334750-3c45-4ac4-9de2-242618b0dbcd",
   "metadata": {},
   "outputs": [
    {
     "name": "stdout",
     "output_type": "stream",
     "text": [
      "My Field Name\n",
      "my_field_name\n"
     ]
    }
   ],
   "source": [
    "from typing import Callable, Optional\n",
    "from pydantic.fields import FieldInfo\n",
    "\n",
    "# Define a custom function for generating field titles\n",
    "def custom_title_generator(field_name: str, field_info: FieldInfo) -> str:\n",
    "    return field_name.replace(\"_\", \" \").title()  # Converts snake_case to Title Case\n",
    "\n",
    "# Function that accepts the title generator\n",
    "def process_field_titles(\n",
    "    field_name: str,\n",
    "    field_info: FieldInfo,\n",
    "    field_title_generator: Optional[Callable[[str, FieldInfo], str]] = None\n",
    ") -> str:\n",
    "    if field_title_generator:\n",
    "        return field_title_generator(field_name, field_info)  # Use the custom generator\n",
    "    else:\n",
    "        return field_name  # Default: just return the field name\n",
    "\n",
    "# Example usage\n",
    "field_info = FieldInfo(description=\"Some metadata about the field\")\n",
    "print(process_field_titles(\"my_field_name\", field_info, custom_title_generator))  # Output: My Field Name\n",
    "print(process_field_titles(\"my_field_name\", field_info))  # Output: my_field_name\n"
   ]
  },
  {
   "cell_type": "code",
   "execution_count": 185,
   "id": "cc8b18fa-eae0-4ed1-9c71-90834c83cd7a",
   "metadata": {},
   "outputs": [
    {
     "data": {
      "text/plain": [
       "pydantic._internal._model_construction.ModelMetaclass"
      ]
     },
     "execution_count": 185,
     "metadata": {},
     "output_type": "execute_result"
    }
   ],
   "source": [
    "type(BaseModel)"
   ]
  },
  {
   "cell_type": "code",
   "execution_count": 201,
   "id": "272fae11-91ac-47c4-b574-f54ad08f560d",
   "metadata": {},
   "outputs": [
    {
     "name": "stdout",
     "output_type": "stream",
     "text": [
      "Meta.__new__ called\n",
      "{'__module__': '__main__', '__qualname__': 'Base', '__init__': <function Base.__init__ at 0x000002A4356C7240>}\n",
      "Meta.__new__ called\n",
      "{'__module__': '__main__', '__qualname__': 'Test', '__annotations__': {'id': <class 'int'>}}\n"
     ]
    },
    {
     "data": {
      "text/plain": [
       "Test()"
      ]
     },
     "execution_count": 201,
     "metadata": {},
     "output_type": "execute_result"
    }
   ],
   "source": [
    "class Meta(type(BaseModel)):\n",
    "    \n",
    "    def __new__(cls, name, bases, dct):\n",
    "        print(\"Meta.__new__ called\")\n",
    "        print(dct)\n",
    "        new_cls = super().__new__(cls, name, bases, dct)\n",
    "        setattr(new_cls, \"__table__\", \"new_value\")\n",
    "        setattr(new_cls, \"__annotations__\", {\"id\":int})\n",
    "        return new_cls\n",
    "\n",
    "class Base(BaseModel, metaclass=Meta):\n",
    "    # pass\n",
    "    def __init__(self, /, **data:Any):\n",
    "        ...\n",
    "class Test(Base):\n",
    "    id:int\n",
    "\n",
    "Test.__table__\n",
    "\n",
    "Test()"
   ]
  },
  {
   "cell_type": "code",
   "execution_count": null,
   "id": "cfcdec50-c9bf-4a57-a4e6-54cb4c269163",
   "metadata": {},
   "outputs": [],
   "source": [
    "Test()"
   ]
  },
  {
   "cell_type": "code",
   "execution_count": 196,
   "id": "7b6e5a7e-93ff-4117-945d-cf6c3f0be987",
   "metadata": {},
   "outputs": [],
   "source": [
    "t = {\"a\": 1}\n",
    "class T:\n",
    "    def __init__(self):\n",
    "        self.a=1\n",
    "t = T()"
   ]
  },
  {
   "cell_type": "code",
   "execution_count": 197,
   "id": "a3986680-5822-4d2a-94f2-99624c294793",
   "metadata": {},
   "outputs": [
    {
     "data": {
      "text/plain": [
       "1"
      ]
     },
     "execution_count": 197,
     "metadata": {},
     "output_type": "execute_result"
    }
   ],
   "source": [
    "getattr(t, \"a\", {})"
   ]
  },
  {
   "cell_type": "code",
   "execution_count": 206,
   "id": "1bf9dfa7-482b-4f59-ac15-b116b8efa10c",
   "metadata": {},
   "outputs": [
    {
     "name": "stdout",
     "output_type": "stream",
     "text": [
      "1 Alice\n"
     ]
    }
   ],
   "source": [
    "from typing import Any, get_type_hints\n",
    "from inspect import Signature, Parameter\n",
    "from pydantic import BaseModel\n",
    "\n",
    "class CustomBaseModel(type(BaseModel)):\n",
    "    def __init_subclass__(cls, **kwargs):\n",
    "        super().__init_subclass__(**kwargs)  # Call the parent method with keyword arguments\n",
    "        # Dynamically create __init__ method\n",
    "        hints = get_type_hints(cls)\n",
    "        print(cls.__signature__)\n",
    "        def __init__(self, **kwargs):\n",
    "            for field, field_type in hints.items():\n",
    "                if field not in kwargs:\n",
    "                    raise TypeError(f\"Missing required field: {field}\")\n",
    "                if not isinstance(kwargs[field], field_type):\n",
    "                    raise TypeError(f\"Field {field} must be of type {field_type}\")\n",
    "                setattr(self, field, kwargs[field])\n",
    "        \n",
    "        cls.__init__ = __init__\n",
    "        \n",
    "        # Update signature for IDE support\n",
    "        parameters = [\n",
    "            Parameter(name=field, kind=Parameter.KEYWORD_ONLY, annotation=field_type)\n",
    "            for field, field_type in hints.items()\n",
    "        ]\n",
    "        cls.__init__.__signature__ = Signature(parameters)\n",
    "\n",
    "# Example Usage\n",
    "\n",
    "class Test(BaseModel, metaclass=CustomBaseModel):\n",
    "    id: int\n",
    "    name: str\n",
    "\n",
    "user = Test(id=1, name=\"Alice\")  # Works\n",
    "print(user.id, user.name)  # 1 Alice"
   ]
  },
  {
   "cell_type": "code",
   "execution_count": 208,
   "id": "1c235911-a09c-46d5-9073-622c4a31fc30",
   "metadata": {},
   "outputs": [
    {
     "data": {
      "text/plain": [
       "<Signature (*, id: int, name: str) -> None>"
      ]
     },
     "execution_count": 208,
     "metadata": {},
     "output_type": "execute_result"
    }
   ],
   "source": [
    "Test.__signature__ "
   ]
  },
  {
   "cell_type": "code",
   "execution_count": null,
   "id": "216ae956-016e-4915-9409-453442e0f918",
   "metadata": {},
   "outputs": [],
   "source": []
  }
 ],
 "metadata": {
  "kernelspec": {
   "display_name": "Python 3 (ipykernel)",
   "language": "python",
   "name": "python3"
  },
  "language_info": {
   "codemirror_mode": {
    "name": "ipython",
    "version": 3
   },
   "file_extension": ".py",
   "mimetype": "text/x-python",
   "name": "python",
   "nbconvert_exporter": "python",
   "pygments_lexer": "ipython3",
   "version": "3.11.10"
  }
 },
 "nbformat": 4,
 "nbformat_minor": 5
}
