{
 "cells": [
  {
   "cell_type": "code",
   "execution_count": 18,
   "id": "1ae67163-f7d3-4682-94b0-cd6fa366844e",
   "metadata": {},
   "outputs": [],
   "source": [
    "!pip install duckdb -q"
   ]
  },
  {
   "cell_type": "markdown",
   "id": "ed11cdd5-a158-4627-b88c-4e51466dc87c",
   "metadata": {},
   "source": [
    "# Start"
   ]
  },
  {
   "cell_type": "code",
   "execution_count": 2,
   "id": "5d2359ff-1d69-4d0b-b89b-3398913550da",
   "metadata": {},
   "outputs": [],
   "source": [
    "%load_ext autoreload\n",
    "%autoreload 2"
   ]
  },
  {
   "cell_type": "markdown",
   "id": "ddc33f05-220d-427d-bc1b-fb86e791b0e5",
   "metadata": {},
   "source": [
    "# Setup for the Test"
   ]
  },
  {
   "cell_type": "code",
   "execution_count": 3,
   "id": "1a2905a4-5c6a-4a2e-a3f3-29035ba7b27e",
   "metadata": {},
   "outputs": [],
   "source": [
    "from broai.prompt_management.core import Persona, Instructions, Example, Examples\n",
    "from broai.llm_management.ollama import BedrockOllamaChat\n",
    "from broai.prompt_management.core import PromptGenerator\n",
    "from broai.agent_management.core import BroAgent\n",
    "from pydantic import BaseModel, Field\n",
    "from typing import List, Any"
   ]
  },
  {
   "cell_type": "code",
   "execution_count": 4,
   "id": "3631d3a9-af15-4a0d-b3d7-5fefb1580517",
   "metadata": {},
   "outputs": [],
   "source": [
    "bedrock_model = BedrockOllamaChat()"
   ]
  },
  {
   "cell_type": "code",
   "execution_count": 5,
   "id": "8bd1ad2c-c26f-403c-8f35-0a6d6bcd8d8b",
   "metadata": {},
   "outputs": [],
   "source": [
    "class Joke(BaseModel):\n",
    "    setup:str = Field(description=\"this is a setup for the joke\")\n",
    "    punchline:str = Field(description=\"this is a punchline of the joke\")\n",
    "\n",
    "class Jokes(BaseModel):\n",
    "    jokes:List[Joke]"
   ]
  },
  {
   "cell_type": "code",
   "execution_count": 6,
   "id": "e0f4841f-40fc-4d23-9e10-6300ad5984c9",
   "metadata": {},
   "outputs": [],
   "source": [
    "class InputFormat(BaseModel):\n",
    "    message:str = Field(description=\"The user message\")"
   ]
  },
  {
   "cell_type": "markdown",
   "id": "23871784-bd80-4345-adf5-0c2ac14cadf1",
   "metadata": {},
   "source": [
    "# BroAgent with full Framework: Happy Path"
   ]
  },
  {
   "cell_type": "code",
   "execution_count": 8,
   "id": "5f7d2b14-1e5e-4fc0-a672-e1cf2aeaf6d2",
   "metadata": {},
   "outputs": [
    {
     "name": "stdout",
     "output_type": "stream",
     "text": [
      "jokes=[Joke(setup=\"Why don't scientists trust atoms?\", punchline='Because they make up everything.'), Joke(setup=\"Why don't eggs tell jokes?\", punchline=\"They'd crack each other up.\"), Joke(setup='Why did the tomato turn red?', punchline='Because it saw the salad dressing.'), Joke(setup='What do you call a fake noodle?', punchline='An impasta.'), Joke(setup='Why did the scarecrow win an award?', punchline='Because he was outstanding in his field.'), Joke(setup=\"Why don't lobsters share?\", punchline=\"Because they're shellfish.\"), Joke(setup=\"What do you call a can opener that doesn't work?\", punchline=\"A can't opener.\"), Joke(setup='I told my wife she was drawing her eyebrows too high.', punchline='She looked surprised.'), Joke(setup=\"Why don't some couples go to the gym?\", punchline=\"Because some relationships don't work out.\"), Joke(setup='Why did the bicycle fall over?', punchline='Because it was two-tired.')]\n",
      "CPU times: user 76 ms, sys: 7.31 ms, total: 83.3 ms\n",
      "Wall time: 2.99 s\n"
     ]
    }
   ],
   "source": [
    "%%time\n",
    "pg = PromptGenerator(\n",
    "    persona=\"You are the good bro Andy.\",\n",
    "    instructions=Instructions(\n",
    "        instructions=[\n",
    "            \"tell some jokes based on message\",\n",
    "        ],\n",
    "    ),\n",
    "    structured_output=Jokes,\n",
    "    examples=Examples(examples=[\n",
    "        Example(\n",
    "            setting=\"Funny Andy\",\n",
    "            input=InputFormat(message=\"Gimme three jokes\"),\n",
    "            output=Jokes(jokes=[\n",
    "                Joke(setup=\"the setup of the joke to build curiosity\", punchline=\"the punchline is to complete the joke\")\n",
    "            ]),\n",
    "        )\n",
    "    ]),\n",
    "    fallback=Jokes(jokes=[Joke(setup=\"error\", punchline=\"error\")])\n",
    ")\n",
    "\n",
    "bro = BroAgent(\n",
    "    prompt_generator=pg,\n",
    "    model=bedrock_model\n",
    ")\n",
    "\n",
    "response = bro.run(request=InputFormat(message=\"Tell me ten jokes.\"))\n",
    "print(response)"
   ]
  },
  {
   "cell_type": "markdown",
   "id": "16656b9f-66e7-4e03-8ea9-bcb912c33098",
   "metadata": {},
   "source": [
    "# BroAgent Full Framework: Pydantic Fallback"
   ]
  },
  {
   "cell_type": "code",
   "execution_count": 9,
   "id": "a4946d76-e3ce-486d-8523-ba50a2053242",
   "metadata": {},
   "outputs": [],
   "source": [
    "class Decoy(BaseModel):\n",
    "    a:str\n",
    "    b:str\n",
    "    c:str\n",
    "    e:int\n",
    "    f:float"
   ]
  },
  {
   "cell_type": "code",
   "execution_count": 10,
   "id": "f35c23b1-07bf-4fc3-961c-20b048bacf26",
   "metadata": {},
   "outputs": [
    {
     "name": "stdout",
     "output_type": "stream",
     "text": [
      "jokes=[Joke(setup='error', punchline='error')]\n",
      "CPU times: user 69.1 ms, sys: 378 μs, total: 69.5 ms\n",
      "Wall time: 12.6 s\n"
     ]
    }
   ],
   "source": [
    "%%time\n",
    "pg = PromptGenerator(\n",
    "    persona=\"You are the good bro Andy.\",\n",
    "    instructions=Instructions(\n",
    "        instructions=[\n",
    "            \"tell some jokes based on message\",\n",
    "        ],\n",
    "    ),\n",
    "    structured_output=Decoy,\n",
    "    examples=Examples(examples=[\n",
    "        Example(\n",
    "            setting=\"Funny Andy\",\n",
    "            input=InputFormat(message=\"Gimme three jokes\"),\n",
    "            output=Jokes(jokes=[\n",
    "                Joke(setup=\"the setup of the joke to build curiosity\", punchline=\"the punchline is to complete the joke\")\n",
    "            ]),\n",
    "        )\n",
    "    ]),\n",
    "    fallback=Jokes(jokes=[Joke(setup=\"error\", punchline=\"error\")])\n",
    ")\n",
    "\n",
    "bro = BroAgent(\n",
    "    prompt_generator=pg,\n",
    "    model=bedrock_model\n",
    ")\n",
    "\n",
    "response = bro.run(request=\"Tell me ten jokes.\")\n",
    "print(response)"
   ]
  },
  {
   "cell_type": "markdown",
   "id": "94054f75-348b-4e97-9f4a-bc47ee765ab2",
   "metadata": {},
   "source": [
    "# BroAgent Full Framework: Default Fallback"
   ]
  },
  {
   "cell_type": "code",
   "execution_count": 11,
   "id": "df7d5d9c-3b6a-4212-8ff0-3e08defa64b4",
   "metadata": {},
   "outputs": [
    {
     "name": "stdout",
     "output_type": "stream",
     "text": [
      "unknown error\n",
      "CPU times: user 67.6 ms, sys: 291 μs, total: 67.9 ms\n",
      "Wall time: 12.4 s\n"
     ]
    }
   ],
   "source": [
    "%%time\n",
    "pg = PromptGenerator(\n",
    "    persona=\"You are the good bro Andy.\",\n",
    "    instructions=Instructions(\n",
    "        instructions=[\n",
    "            \"tell some jokes based on message\",\n",
    "        ],\n",
    "    ),\n",
    "    structured_output=Decoy,\n",
    "    examples=Examples(examples=[\n",
    "        Example(\n",
    "            setting=\"Funny Andy\",\n",
    "            input=InputFormat(message=\"Gimme three jokes\"),\n",
    "            output=Jokes(jokes=[\n",
    "                Joke(setup=\"the setup of the joke to build curiosity\", punchline=\"the punchline is to complete the joke\")\n",
    "            ]),\n",
    "        )\n",
    "    ]),\n",
    ")\n",
    "\n",
    "bro = BroAgent(\n",
    "    prompt_generator=pg,\n",
    "    model=bedrock_model\n",
    ")\n",
    "\n",
    "response = bro.run(request=\"Tell me ten jokes.\")\n",
    "print(response)"
   ]
  },
  {
   "cell_type": "markdown",
   "id": "58a6d624-3232-4c13-95a2-ceaac703e623",
   "metadata": {},
   "source": [
    "# BroAgent Full Framework: Custom Fallback in string"
   ]
  },
  {
   "cell_type": "code",
   "execution_count": 12,
   "id": "b78e0a40-5fc7-4c7a-b45e-e1b0d5b7c154",
   "metadata": {},
   "outputs": [
    {
     "name": "stdout",
     "output_type": "stream",
     "text": [
      "This is a custom fallback in string\n",
      "CPU times: user 69.4 ms, sys: 0 ns, total: 69.4 ms\n",
      "Wall time: 12.5 s\n"
     ]
    }
   ],
   "source": [
    "%%time\n",
    "pg = PromptGenerator(\n",
    "    persona=\"You are the good bro Andy.\",\n",
    "    instructions=Instructions(\n",
    "        instructions=[\n",
    "            \"tell some jokes based on message\",\n",
    "        ],\n",
    "    ),\n",
    "    structured_output=Decoy,\n",
    "    examples=Examples(examples=[\n",
    "        Example(\n",
    "            setting=\"Funny Andy\",\n",
    "            input=InputFormat(message=\"Gimme three jokes\"),\n",
    "            output=Jokes(jokes=[\n",
    "                Joke(setup=\"the setup of the joke to build curiosity\", punchline=\"the punchline is to complete the joke\")\n",
    "            ]),\n",
    "        )\n",
    "    ]),\n",
    "    fallback=\"This is a custom fallback in string\"\n",
    ")\n",
    "\n",
    "bro = BroAgent(\n",
    "    prompt_generator=pg,\n",
    "    model=bedrock_model\n",
    ")\n",
    "\n",
    "response = bro.run(request=\"Tell me ten jokes.\")\n",
    "print(response)"
   ]
  },
  {
   "cell_type": "markdown",
   "id": "c7b55ec5-56b0-44e3-a0e1-d7a2ff2d4bae",
   "metadata": {},
   "source": [
    "# BroAgent Full Framework: Custom Fallback not string"
   ]
  },
  {
   "cell_type": "code",
   "execution_count": 13,
   "id": "21d346f5-579e-4094-999d-0bc6aa986230",
   "metadata": {},
   "outputs": [
    {
     "name": "stdout",
     "output_type": "stream",
     "text": [
      "{'error': 'This is another custom fallback'}\n",
      "CPU times: user 64.7 ms, sys: 204 μs, total: 64.9 ms\n",
      "Wall time: 12.3 s\n"
     ]
    }
   ],
   "source": [
    "%%time\n",
    "pg = PromptGenerator(\n",
    "    persona=\"You are the good bro Andy.\",\n",
    "    instructions=Instructions(\n",
    "        instructions=[\n",
    "            \"tell some jokes based on message\",\n",
    "        ],\n",
    "    ),\n",
    "    structured_output=Decoy,\n",
    "    examples=Examples(examples=[\n",
    "        Example(\n",
    "            setting=\"Funny Andy\",\n",
    "            input=InputFormat(message=\"Gimme three jokes\"),\n",
    "            output=Jokes(jokes=[\n",
    "                Joke(setup=\"the setup of the joke to build curiosity\", punchline=\"the punchline is to complete the joke\")\n",
    "            ]),\n",
    "        )\n",
    "    ]),\n",
    "    fallback={\"error\": \"This is another custom fallback\"}\n",
    ")\n",
    "\n",
    "bro = BroAgent(\n",
    "    prompt_generator=pg,\n",
    "    model=bedrock_model\n",
    ")\n",
    "\n",
    "response = bro.run(request=\"Tell me ten jokes.\")\n",
    "print(response)"
   ]
  },
  {
   "cell_type": "markdown",
   "id": "ff499571-6302-45e4-8399-8c0b638d9831",
   "metadata": {},
   "source": [
    "# BroAgent with String: Happy Path"
   ]
  },
  {
   "cell_type": "code",
   "execution_count": 14,
   "id": "2b00a824-8378-4ccd-8b6c-ad4462bb8ce4",
   "metadata": {},
   "outputs": [
    {
     "name": "stdout",
     "output_type": "stream",
     "text": [
      "I gotcha! Here are ten jokes for ya:\n",
      "\n",
      "1. Setup: I told my wife she was drawing her eyebrows too high.\n",
      "Punchline: She looked surprised.\n",
      "\n",
      "2. Setup: Why don't scientists trust atoms?\n",
      "Punchline: Because they make up everything.\n",
      "\n",
      "3. Setup: Why don't eggs tell jokes?\n",
      "Punchline: They'd crack each other up.\n",
      "\n",
      "4. Setup: What do you call a fake noodle?\n",
      "Punchline: An impasta.\n",
      "\n",
      "5. Setup: Why did the scarecrow win an award?\n",
      "Punchline: Because he was outstanding in his field.\n",
      "\n",
      "6. Setup: What do you call a can opener that doesn't work?\n",
      "Punchline: A can't opener.\n",
      "\n",
      "7. Setup: I'm reading a book about anti-gravity.\n",
      "Punchline: It's impossible to put down.\n",
      "\n",
      "8. Setup: Why did the bicycle fall over?\n",
      "Punchline: Because it was two-tired.\n",
      "\n",
      "9. Setup: What do you call a bear with no socks on?\n",
      "Punchline: Barefoot.\n",
      "\n",
      "10. Setup: Why did the banana go to the doctor?\n",
      "Punchline: Because he wasn't peeling well.\n",
      "CPU times: user 92.6 ms, sys: 79 μs, total: 92.7 ms\n",
      "Wall time: 2.37 s\n"
     ]
    }
   ],
   "source": [
    "%%time\n",
    "pg = PromptGenerator(\n",
    "    persona=\"You are the good bro Andy.\",\n",
    "    instructions=\"tell some jokes based on message\",\n",
    "    structured_output=\"SETUP: \\nthe setup of the joke to build curiosity\\n\\nPUNCHLINE: \\nthe punchline is to complete the joke\"\n",
    ")\n",
    "\n",
    "bro = BroAgent(\n",
    "    prompt_generator=pg,\n",
    "    model=bedrock_model\n",
    ")\n",
    "\n",
    "response = bro.run(request=\"Tell me ten jokes.\")\n",
    "print(response)"
   ]
  },
  {
   "cell_type": "code",
   "execution_count": 15,
   "id": "c2e2dc4c-4904-420f-814c-0ef6b98db99c",
   "metadata": {},
   "outputs": [],
   "source": [
    "joke_in_string = response"
   ]
  },
  {
   "cell_type": "code",
   "execution_count": 16,
   "id": "1f87002b-cfde-4fb8-b7e7-ed75027864e4",
   "metadata": {},
   "outputs": [
    {
     "name": "stdout",
     "output_type": "stream",
     "text": [
      "jokes=[Joke(setup='I told my wife she was drawing her eyebrows too high.', punchline='She looked surprised.'), Joke(setup=\"Why don't scientists trust atoms?\", punchline='Because they make up everything.'), Joke(setup=\"Why don't eggs tell jokes?\", punchline=\"They'd crack each other up.\"), Joke(setup='What do you call a fake noodle?', punchline='An impasta.'), Joke(setup='Why did the scarecrow win an award?', punchline='Because he was outstanding in his field.'), Joke(setup=\"What do you call a can opener that doesn't work?\", punchline=\"A can't opener.\"), Joke(setup=\"I'm reading a book about anti-gravity.\", punchline=\"It's impossible to put down.\"), Joke(setup='Why did the bicycle fall over?', punchline='Because it was two-tired.'), Joke(setup='What do you call a bear with no socks on?', punchline='Barefoot.'), Joke(setup='Why did the banana go to the doctor?', punchline=\"Because he wasn't peeling well.\")]\n",
      "CPU times: user 22.5 ms, sys: 403 μs, total: 22.9 ms\n",
      "Wall time: 2.89 s\n"
     ]
    }
   ],
   "source": [
    "%%time\n",
    "\n",
    "class InputFormat(BaseModel):\n",
    "    content:str\n",
    "\n",
    "pg = PromptGenerator(\n",
    "    persona=\"You are a content extractor.\",\n",
    "    instructions=Instructions(\n",
    "        instructions=[\n",
    "            \"Extract the content into the sepcified JSON formant.\",\n",
    "        ],\n",
    "    ),\n",
    "    structured_output=Jokes,\n",
    "    examples=Examples(examples=[\n",
    "        Example(\n",
    "            setting=\"Joke Extraction\",\n",
    "            input=InputFormat(content=joke_in_string),\n",
    "            output=Jokes(jokes=[\n",
    "                Joke(setup=\"the setup of the joke to build curiosity\", punchline=\"the punchline is to complete the joke\")\n",
    "            ]),\n",
    "        )\n",
    "    ]),\n",
    "    fallback=Jokes(jokes=[Joke(setup=\"error\", punchline=\"error\")])\n",
    ")\n",
    "\n",
    "bro = BroAgent(\n",
    "    prompt_generator=pg,\n",
    "    model=bedrock_model\n",
    ")\n",
    "\n",
    "response = bro.run(request=InputFormat(content=joke_in_string))\n",
    "print(response)"
   ]
  },
  {
   "cell_type": "markdown",
   "id": "c817ad0b-8de2-4009-aaf1-1731ec9123c0",
   "metadata": {},
   "source": [
    "# DuckStore"
   ]
  },
  {
   "cell_type": "code",
   "execution_count": 45,
   "id": "e55064b3-3cb2-4618-a491-a35b087640b3",
   "metadata": {},
   "outputs": [],
   "source": [
    "from broai.duckdb_management.utils import get_create_table_query"
   ]
  },
  {
   "cell_type": "code",
   "execution_count": 47,
   "id": "2726128a-1050-44e0-b64d-c5c1505ddef0",
   "metadata": {},
   "outputs": [
    {
     "name": "stdout",
     "output_type": "stream",
     "text": [
      "CREATE TABLE IF NOT EXISTS test (\n",
      "\tdoc_id VARCHAR\n",
      "\tcontent VARCHAR\n",
      "\tdata JSON\n",
      ");\n"
     ]
    }
   ],
   "source": [
    "schemas = {\n",
    "    \"doc_id\": \"VARCHAR\",\n",
    "    \"content\": \"VARCHAR\",\n",
    "    \"data\": \"JSON\"\n",
    "}\n",
    "print(get_create_table_query(table=\"test\", schemas=schemas))"
   ]
  },
  {
   "cell_type": "markdown",
   "id": "f7356245-ab9e-414a-aba1-1627b17d6536",
   "metadata": {},
   "source": [
    "# Utility"
   ]
  },
  {
   "cell_type": "code",
   "execution_count": 31,
   "id": "756a3d3b-5503-4eef-9fba-082574ca5a58",
   "metadata": {},
   "outputs": [],
   "source": [
    "from broai.interface import Context, TaskStatus"
   ]
  },
  {
   "cell_type": "code",
   "execution_count": 32,
   "id": "e58ae634-bbaa-42f5-ad32-196def4497bd",
   "metadata": {},
   "outputs": [
    {
     "data": {
      "text/plain": [
       "Context(id='c0d9dea3-af4f-4d0d-9735-37b4d7e0c66b', context='Test', metadata=None, type='document', created_at='2025-04-16 22:07:21.480543')"
      ]
     },
     "execution_count": 32,
     "metadata": {},
     "output_type": "execute_result"
    }
   ],
   "source": [
    "Context(context=\"Test\")"
   ]
  },
  {
   "cell_type": "code",
   "execution_count": 34,
   "id": "a3063400-e937-42f7-8fb8-23dd12442147",
   "metadata": {},
   "outputs": [
    {
     "data": {
      "text/plain": [
       "<TaskStatus.NOT_STARTED: 'not_started'>"
      ]
     },
     "execution_count": 34,
     "metadata": {},
     "output_type": "execute_result"
    }
   ],
   "source": [
    "TaskStatus.NOT_STARTED"
   ]
  },
  {
   "cell_type": "code",
   "execution_count": 35,
   "id": "3f37a5cb-7960-4c84-be08-1e1fcc940128",
   "metadata": {},
   "outputs": [
    {
     "data": {
      "text/plain": [
       "<TaskStatus.PENDING: 'pending'>"
      ]
     },
     "execution_count": 35,
     "metadata": {},
     "output_type": "execute_result"
    }
   ],
   "source": [
    "TaskStatus.PENDING"
   ]
  },
  {
   "cell_type": "code",
   "execution_count": 38,
   "id": "bf0c00fb-ab0c-4c94-bff5-ae770287ce90",
   "metadata": {},
   "outputs": [
    {
     "data": {
      "text/plain": [
       "True"
      ]
     },
     "execution_count": 38,
     "metadata": {},
     "output_type": "execute_result"
    }
   ],
   "source": [
    "TaskStatus.DONE"
   ]
  },
  {
   "cell_type": "code",
   "execution_count": null,
   "id": "25d4f63d-fed8-4880-8ec5-1f79d691d1ba",
   "metadata": {},
   "outputs": [],
   "source": []
  }
 ],
 "metadata": {
  "kernelspec": {
   "display_name": "conda_python3",
   "language": "python",
   "name": "conda_python3"
  },
  "language_info": {
   "codemirror_mode": {
    "name": "ipython",
    "version": 3
   },
   "file_extension": ".py",
   "mimetype": "text/x-python",
   "name": "python",
   "nbconvert_exporter": "python",
   "pygments_lexer": "ipython3",
   "version": "3.10.16"
  }
 },
 "nbformat": 4,
 "nbformat_minor": 5
}
