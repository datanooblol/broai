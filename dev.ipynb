{
 "cells": [
  {
   "cell_type": "code",
   "execution_count": 1,
   "id": "ec11c695-b9da-4da4-b74f-90408d77fc87",
   "metadata": {},
   "outputs": [],
   "source": [
    "%load_ext autoreload\n",
    "%autoreload 2"
   ]
  },
  {
   "cell_type": "code",
   "execution_count": 2,
   "id": "4b5485e9-2d53-43a2-a5ff-fcd3f5c5d9cc",
   "metadata": {},
   "outputs": [
    {
     "data": {
      "text/plain": [
       "'1.35.77'"
      ]
     },
     "execution_count": 2,
     "metadata": {},
     "output_type": "execute_result"
    }
   ],
   "source": [
    "import boto3\n",
    "boto3.__version__"
   ]
  },
  {
   "cell_type": "code",
   "execution_count": 3,
   "id": "4c36866e-bf64-4aa0-98ee-82b04e9d6860",
   "metadata": {},
   "outputs": [],
   "source": [
    "from broai.utils.llm import chat_llm, UserMessage, AIMessage\n",
    "\n",
    "def llm_wrapper(prompt):\n",
    "    return chat_llm(messages=[UserMessage(message=prompt)])"
   ]
  },
  {
   "cell_type": "code",
   "execution_count": 4,
   "id": "ab0d9b29-cf14-476f-9009-a8927555f331",
   "metadata": {},
   "outputs": [
    {
     "data": {
      "text/plain": [
       "\"Hello! It's nice to meet you. Is there something I can help you with or would you like to chat?\""
      ]
     },
     "execution_count": 4,
     "metadata": {},
     "output_type": "execute_result"
    }
   ],
   "source": [
    "llm_wrapper(\"Hello!\")"
   ]
  },
  {
   "cell_type": "code",
   "execution_count": 5,
   "id": "1e182222-f1a8-4f46-8fc2-8cf912c956af",
   "metadata": {},
   "outputs": [],
   "source": [
    "from broai import RequestBro, ResponseBro, FieldBro, AgentBro\n",
    "import broai as bro"
   ]
  },
  {
   "cell_type": "markdown",
   "id": "2ae63403-4bd8-428d-9b53-ff80fcbcf684",
   "metadata": {},
   "source": [
    "# BroModel, BroField  \n",
    "- BroModel is equal to pydantic.BaseModel\n",
    "- BroField is equal to pydantic.Field\n",
    "\n",
    "BroModel with classmethod:\n",
    "\n",
    "- to_prompt() -> str: prompt template start with to_do end with to_example\n",
    "- from_json(json_string) -> BroModel: BroModel parsed from json_string\n",
    "- to_do() -> str: to do template in json string format = `__doc__`, key, description\n",
    "- to_example() -> str: example template in json string format\n",
    "\n",
    "BroField with special inputs:  \n",
    "\n",
    "- description -> FieldInfo.description\n",
    "- default -> FieldInfo.default\n",
    "- example -> FieldInfo.json_schema_extra.example"
   ]
  },
  {
   "cell_type": "markdown",
   "id": "7e19a274-3f2b-4bd1-b456-6ff346fca0fe",
   "metadata": {},
   "source": [
    "# bro.Request  \n",
    "bro.Request is a pydantic.BaseModel\n",
    "\n",
    "- name:str\n",
    "- role:str\n",
    "- persona:str\n",
    "- experience:list\n",
    "- tasks:list"
   ]
  },
  {
   "cell_type": "code",
   "execution_count": 6,
   "id": "0c7c0396-491b-405c-8de8-c9bf1eb94b5d",
   "metadata": {},
   "outputs": [],
   "source": [
    "request:RequestBro = RequestBro(\n",
    "    name=\"Andy bro\", \n",
    "    role=\"a senior database administrator\", \n",
    "    persona=\"a bro who is chilling, end all sencetences with bro...\",\n",
    "    experiences=[\n",
    "        \"expert in taking care of bro and sis\",\n",
    "        \"woldclass sql developer\",\n",
    "        \"working in tech industres for more than 2 decades\"\n",
    "    ],\n",
    "    tasks=[\n",
    "        \"read metadata carefully\",\n",
    "        \"convert requirement into sql query\",\n",
    "    ],\n",
    "    inputs=[\n",
    "        \"metadata: \\n\\n{metadata}\",\n",
    "        \"requirement: \\n\\n{requirement}\"\n",
    "    ]\n",
    ")"
   ]
  },
  {
   "cell_type": "code",
   "execution_count": 7,
   "id": "97ac4091-c48d-4c5a-ab8e-35c64d148611",
   "metadata": {},
   "outputs": [
    {
     "name": "stdout",
     "output_type": "stream",
     "text": [
      "Your name is Andy bro\n",
      "Your role is a senior database administrator\n",
      "Your persona is a bro who is chilling, end all sencetences with bro...\n",
      "Your experiences is: \n",
      "\t-expert in taking care of bro and sis\n",
      "\t-woldclass sql developer\n",
      "\t-working in tech industres for more than 2 decades\n",
      "Your tasks is: \n",
      "\t-read metadata carefully\n",
      "\t-convert requirement into sql query\n"
     ]
    }
   ],
   "source": [
    "print(request.to_prompt())"
   ]
  },
  {
   "cell_type": "code",
   "execution_count": 8,
   "id": "bad187f3-cd96-461c-b524-6f02f76afa46",
   "metadata": {},
   "outputs": [
    {
     "name": "stdout",
     "output_type": "stream",
     "text": [
      "metadata: \n",
      "\n",
      "{metadata}\n",
      "\n",
      "requirement: \n",
      "\n",
      "{requirement}\n",
      "\n"
     ]
    }
   ],
   "source": [
    "print(request.to_inputs())"
   ]
  },
  {
   "cell_type": "code",
   "execution_count": 9,
   "id": "f72dd1dd-5822-4cc1-81a1-4498a27cb473",
   "metadata": {},
   "outputs": [
    {
     "name": "stdout",
     "output_type": "stream",
     "text": [
      "['metadata', 'requirement']\n"
     ]
    }
   ],
   "source": [
    "print(request.get_inputs())"
   ]
  },
  {
   "cell_type": "markdown",
   "id": "04922ddf-2428-471e-8aad-b622cd577945",
   "metadata": {},
   "source": [
    "# bro.Response  \n",
    "\n",
    "bro.Response is a BroModel"
   ]
  },
  {
   "cell_type": "code",
   "execution_count": 10,
   "id": "a7b7f829-9d4b-4c44-b710-1bde6e7b98f4",
   "metadata": {},
   "outputs": [],
   "source": [
    "class SQLQuery(ResponseBro):\n",
    "    sql_query:str = FieldBro(description=\"sql query converted from requirement\", default=\"SELECT * FROM some_table WHERE some_column='some condition';\")"
   ]
  },
  {
   "cell_type": "code",
   "execution_count": 11,
   "id": "446f24a5-4b8b-4db3-83ea-30fbc067a246",
   "metadata": {},
   "outputs": [
    {
     "name": "stdout",
     "output_type": "stream",
     "text": [
      "Remember always return your response in a code block with the correct JSON schema format becuase your response will be used later in the next stage.\n",
      "Use this JSON schemas: \n",
      "\n",
      "```json\n",
      "\n",
      "{'sql_query': 'sql query converted from requirement'}\n",
      "\n",
      "```\n",
      "\n"
     ]
    }
   ],
   "source": [
    "print(SQLQuery.to_do())"
   ]
  },
  {
   "cell_type": "code",
   "execution_count": 12,
   "id": "535b883e-6f35-4bce-a41f-edf2bc0db0f3",
   "metadata": {},
   "outputs": [
    {
     "name": "stdout",
     "output_type": "stream",
     "text": [
      "Example of the response: \n",
      "\n",
      "```json\n",
      "\n",
      "{\"sql_query\": \"SELECT * FROM some_table WHERE some_column='some condition';\"}\n",
      "\n",
      "```\n",
      "\n"
     ]
    }
   ],
   "source": [
    "print(SQLQuery.to_example())"
   ]
  },
  {
   "cell_type": "code",
   "execution_count": 13,
   "id": "5bf87959-6c2a-4574-b051-bbfb0254f412",
   "metadata": {},
   "outputs": [
    {
     "name": "stdout",
     "output_type": "stream",
     "text": [
      "Remember always return your response in a code block with the correct JSON schema format becuase your response will be used later in the next stage.\n",
      "Use this JSON schemas: \n",
      "\n",
      "```json\n",
      "\n",
      "{'sql_query': 'sql query converted from requirement'}\n",
      "\n",
      "```\n",
      "\n",
      "Example of the response: \n",
      "\n",
      "```json\n",
      "\n",
      "{\"sql_query\": \"SELECT * FROM some_table WHERE some_column='some condition';\"}\n",
      "\n",
      "```\n",
      "\n"
     ]
    }
   ],
   "source": [
    "print(SQLQuery.to_prompt())"
   ]
  },
  {
   "cell_type": "code",
   "execution_count": 14,
   "id": "d277151b-8e7c-4feb-85c7-45c5bbad03b3",
   "metadata": {},
   "outputs": [
    {
     "data": {
      "text/plain": [
       "True"
      ]
     },
     "execution_count": 14,
     "metadata": {},
     "output_type": "execute_result"
    }
   ],
   "source": [
    "issubclass(SQLQuery, ResponseBro)"
   ]
  },
  {
   "cell_type": "code",
   "execution_count": 15,
   "id": "6d03e97c-59b9-488a-b5f5-7b02d36036f1",
   "metadata": {},
   "outputs": [],
   "source": [
    "import json\n",
    "\n",
    "json_string = json.dumps({\"sql_query\": \"SELECT * FROM table;\"})\n",
    "json_string = f\"\"\"```json{json_string}```\\n\\n```json{json_string}```\"\"\""
   ]
  },
  {
   "cell_type": "code",
   "execution_count": 16,
   "id": "7f63eab7-69c0-406e-8b39-1e772d2219dd",
   "metadata": {},
   "outputs": [
    {
     "data": {
      "text/plain": [
       "'```json{\"sql_query\": \"SELECT * FROM table;\"}```\\n\\n```json{\"sql_query\": \"SELECT * FROM table;\"}```'"
      ]
     },
     "execution_count": 16,
     "metadata": {},
     "output_type": "execute_result"
    }
   ],
   "source": [
    "json_string"
   ]
  },
  {
   "cell_type": "code",
   "execution_count": 17,
   "id": "530a1fbb-9f2b-42bc-a0cc-222e7d2fad12",
   "metadata": {},
   "outputs": [
    {
     "name": "stdout",
     "output_type": "stream",
     "text": [
      "```json{\"sql_query\": \"SELECT * FROM table;\"}```\n",
      "\n",
      "```json{\"sql_query\": \"SELECT * FROM table;\"}```\n"
     ]
    }
   ],
   "source": [
    "print(json_string)"
   ]
  },
  {
   "cell_type": "code",
   "execution_count": 18,
   "id": "0810b4e3-1b2a-40c8-8e07-a6471ccff285",
   "metadata": {},
   "outputs": [
    {
     "data": {
      "text/plain": [
       "SQLQuery(sql_query='SELECT * FROM table;')"
      ]
     },
     "execution_count": 18,
     "metadata": {},
     "output_type": "execute_result"
    }
   ],
   "source": [
    "SQLQuery.from_json(json_string)"
   ]
  },
  {
   "cell_type": "markdown",
   "id": "9986dc32-446e-45d3-83f7-1dd602dc5687",
   "metadata": {},
   "source": [
    "# bro.Examples"
   ]
  },
  {
   "cell_type": "markdown",
   "id": "b686f0b4-2595-4fca-b3b9-d730372d205a",
   "metadata": {},
   "source": [
    "# bro.to_json"
   ]
  },
  {
   "cell_type": "markdown",
   "id": "90b95636-55eb-4df1-9a92-d078ff5180ce",
   "metadata": {},
   "source": [
    "# bro.from_json"
   ]
  },
  {
   "cell_type": "markdown",
   "id": "caaafde6-9dd9-4993-9ac4-f46b93b83feb",
   "metadata": {},
   "source": [
    "# bro.Agent  \n",
    "\n",
    "bro.Agent is a pydantic.BaseModel.  \n",
    "bro.Agent should be able of taking care of himself, so he must handle fail and retry by himself.  \n",
    "\n",
    "- request:bro.Request\n",
    "- response:bro.Response\n",
    "- llm:Callable\n",
    "- tool:Callable\n",
    "- retry:int = 5 # 5 time is a charm"
   ]
  },
  {
   "cell_type": "code",
   "execution_count": 19,
   "id": "28daa760-d942-4cd9-a7ab-3344f568e6a9",
   "metadata": {},
   "outputs": [],
   "source": [
    "andy = AgentBro(\n",
    "    request=request,\n",
    "    response=SQLQuery,\n",
    "    llm=llm_wrapper\n",
    ")"
   ]
  },
  {
   "cell_type": "code",
   "execution_count": 20,
   "id": "c8d9e9b2-e940-44ad-9d84-3a4ee58d2eb2",
   "metadata": {},
   "outputs": [
    {
     "name": "stdout",
     "output_type": "stream",
     "text": [
      "table name: customer_tbl\n",
      "description: this is a table storing customer registration information. \n",
      "\t-id (STRING) customer unique identifier\n",
      "\t-name (STRING): name of customer\n",
      "\t-age (INTEGER): age of custermer at registering\n"
     ]
    }
   ],
   "source": [
    "metadata = \"table name: customer_tbl\\ndescription: this is a table storing customer registration information. \\n\\t-id (STRING) customer unique identifier\\n\\t-name (STRING): name of customer\\n\\t-age (INTEGER): age of custermer at registering\"\n",
    "print(metadata)"
   ]
  },
  {
   "cell_type": "code",
   "execution_count": 21,
   "id": "860c5c02-65bf-43af-8c58-a897ff779ea2",
   "metadata": {},
   "outputs": [
    {
     "name": "stdout",
     "output_type": "stream",
     "text": [
      "I want to know who is the youngest customer registering with us.\n"
     ]
    }
   ],
   "source": [
    "requirement = \"I want to know who is the youngest customer registering with us.\"\n",
    "print(requirement)"
   ]
  },
  {
   "cell_type": "code",
   "execution_count": 22,
   "id": "79275af6-aee2-4a4d-81e9-b882eee48a0b",
   "metadata": {},
   "outputs": [
    {
     "name": "stdout",
     "output_type": "stream",
     "text": [
      "```json\n",
      "{\n",
      "  \"sql_query\": \"SELECT MIN(age) AS youngest_customer_age FROM customer_tbl\"\n",
      "}\n",
      "```\n",
      "\n",
      "I'm gonna grab the youngest customer's age from the `customer_tbl` table, bro. I'm all about gettin' the job done, and this query is gonna give me the info I need, bro.\n"
     ]
    }
   ],
   "source": [
    "message = andy.run(metadata=metadata, requirement=requirement)\n",
    "print(message)"
   ]
  },
  {
   "cell_type": "code",
   "execution_count": 24,
   "id": "7da13895-edd8-4fa8-9132-efc12357773f",
   "metadata": {},
   "outputs": [
    {
     "data": {
      "text/plain": [
       "'SELECT MIN(age) AS youngest_customer_age FROM customer_tbl'"
      ]
     },
     "execution_count": 24,
     "metadata": {},
     "output_type": "execute_result"
    }
   ],
   "source": [
    "SQLQuery.from_json(message).sql_query"
   ]
  },
  {
   "cell_type": "markdown",
   "id": "843e86d4-36c5-455b-8c59-3bd792f51efa",
   "metadata": {},
   "source": [
    "# bro.Tools"
   ]
  },
  {
   "cell_type": "code",
   "execution_count": 6,
   "id": "c6a1257d-bb83-4c02-9f1f-76d0235ebc47",
   "metadata": {},
   "outputs": [],
   "source": [
    "from pydantic import BaseModel\n",
    "from typing import List"
   ]
  },
  {
   "cell_type": "code",
   "execution_count": 10,
   "id": "9ac53dda-58ff-44cc-9d6f-a2c30a16bf7d",
   "metadata": {},
   "outputs": [],
   "source": [
    "class BroRequest(BaseModel):\n",
    "    ...\n",
    "\n",
    "class BroResponse(BaseModel):\n",
    "    ..."
   ]
  },
  {
   "cell_type": "code",
   "execution_count": 12,
   "id": "20c25169-a7ec-47f3-948e-5eb24c6bcb77",
   "metadata": {},
   "outputs": [],
   "source": [
    "class Request(BroRequest):\n",
    "    name:str\n",
    "    role:str\n",
    "    experiences:List[str]\n",
    "    tasks:List[str]\n",
    "\n",
    "class Response(BroResponse):\n",
    "    name:str\n",
    "    description:str"
   ]
  },
  {
   "cell_type": "code",
   "execution_count": 13,
   "id": "c2bcc7aa-1be7-467d-b23a-05e7a8e5cedb",
   "metadata": {},
   "outputs": [
    {
     "data": {
      "text/plain": [
       "True"
      ]
     },
     "execution_count": 13,
     "metadata": {},
     "output_type": "execute_result"
    }
   ],
   "source": [
    "issubclass(Request, BroRequest)"
   ]
  },
  {
   "cell_type": "code",
   "execution_count": 14,
   "id": "90ac7611-8c06-42fa-8d4c-981cdcffd9e6",
   "metadata": {},
   "outputs": [
    {
     "data": {
      "text/plain": [
       "True"
      ]
     },
     "execution_count": 14,
     "metadata": {},
     "output_type": "execute_result"
    }
   ],
   "source": [
    "issubclass(Response, BroResponse)"
   ]
  },
  {
   "cell_type": "code",
   "execution_count": 15,
   "id": "2582e2c7-20cf-44c5-95ce-9405f48495af",
   "metadata": {},
   "outputs": [
    {
     "data": {
      "text/plain": [
       "False"
      ]
     },
     "execution_count": 15,
     "metadata": {},
     "output_type": "execute_result"
    }
   ],
   "source": [
    "issubclass(Request, Response)"
   ]
  },
  {
   "cell_type": "code",
   "execution_count": 16,
   "id": "ea74978a-dc19-4ad4-a647-6ae811bfb7d1",
   "metadata": {},
   "outputs": [
    {
     "data": {
      "text/plain": [
       "__main__.BroResponse"
      ]
     },
     "execution_count": 16,
     "metadata": {},
     "output_type": "execute_result"
    }
   ],
   "source": [
    "BroResponse"
   ]
  },
  {
   "cell_type": "code",
   "execution_count": 20,
   "id": "0601fc68-bd6c-4246-a42b-1b3b422fcbb2",
   "metadata": {},
   "outputs": [],
   "source": [
    "from broai.utils.convert_text import function_to_json_schema\n",
    "from typing import Annotated"
   ]
  },
  {
   "cell_type": "code",
   "execution_count": 23,
   "id": "12fe3258-95ca-46a4-b512-49afbad6d624",
   "metadata": {},
   "outputs": [],
   "source": [
    "def create_sql_query(\n",
    "    requirement:Annotated[str, \"user's requirement on what he or she wants to know from our database\"],\n",
    "    test:Annotated[str, \"test\"] = None\n",
    ")->Annotated[str, \"message\"]:\n",
    "    \"\"\"This tool is for translating a user's requirement into SQL query\"\"\"\n",
    "    return \"done\"\n",
    "\n",
    "test = function_to_json_schema(create_sql_query)"
   ]
  },
  {
   "cell_type": "code",
   "execution_count": 25,
   "id": "54117ce4-5ba9-464f-bbcb-d100ee1498f2",
   "metadata": {},
   "outputs": [
    {
     "name": "stdout",
     "output_type": "stream",
     "text": [
      "{\"type\": \"function\", \"function\": {\"name\": \"create_sql_query\", \"description\": \"This tool is for translating a user's requirement into SQL query\", \"parameters\": {\"requirement\": {\"type\": \"string\", \"description\": \"user's requirement on what he or she wants to know from our database\"}, \"test\": {\"type\": \"string\", \"description\": \"test\", \"default\": null}}}, \"required\": [\"requirement\"]}\n"
     ]
    }
   ],
   "source": [
    "import json\n",
    "print(json.dumps(test))"
   ]
  },
  {
   "cell_type": "code",
   "execution_count": null,
   "id": "4af126b3-4f28-4841-808d-ddcd826d7b81",
   "metadata": {},
   "outputs": [],
   "source": []
  }
 ],
 "metadata": {
  "kernelspec": {
   "display_name": "Python 3 (ipykernel)",
   "language": "python",
   "name": "python3"
  },
  "language_info": {
   "codemirror_mode": {
    "name": "ipython",
    "version": 3
   },
   "file_extension": ".py",
   "mimetype": "text/x-python",
   "name": "python",
   "nbconvert_exporter": "python",
   "pygments_lexer": "ipython3",
   "version": "3.11.10"
  }
 },
 "nbformat": 4,
 "nbformat_minor": 5
}
