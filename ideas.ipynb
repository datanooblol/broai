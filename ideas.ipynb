{
 "cells": [
  {
   "cell_type": "code",
   "execution_count": 1,
   "metadata": {},
   "outputs": [],
   "source": [
    "%load_ext autoreload\n",
    "%autoreload 2"
   ]
  },
  {
   "cell_type": "code",
   "execution_count": 45,
   "metadata": {
    "vscode": {
     "languageId": "plaintext"
    }
   },
   "outputs": [],
   "source": [
    "from broai.bro_model.model import BroModel, Field\n",
    "from broai.utils.convert_text import convert_pydantic_to_prompt\n",
    "from typing import List\n",
    "from broai.bro_tool.tool import ToolBox, Tool\n",
    "from typing import Annotated, Optional"
   ]
  },
  {
   "cell_type": "code",
   "execution_count": 35,
   "metadata": {},
   "outputs": [
    {
     "data": {
      "text/plain": [
       "(pydantic._internal._model_construction.ModelMetaclass, function)"
      ]
     },
     "execution_count": 35,
     "metadata": {},
     "output_type": "execute_result"
    }
   ],
   "source": [
    "type(BroModel), type(Field)"
   ]
  },
  {
   "cell_type": "code",
   "execution_count": 36,
   "metadata": {},
   "outputs": [],
   "source": [
    "class Metric(BroModel):\n",
    "    name:str = Field(description=\"\", example=\"\")\n",
    "    description:str = Field(description=\"\", example=\"\")\n",
    "\n",
    "class KeyMetrics(BroModel):\n",
    "    metrics:List[Metric] = Field(description=\"\", example=\"\")"
   ]
  },
  {
   "cell_type": "code",
   "execution_count": 43,
   "metadata": {},
   "outputs": [],
   "source": [
    "def web_scraping(\n",
    "    url:Annotated[str, \"a target url\"], \n",
    "    engine:Annotated[any, \"the search engine\"] = \"google\"\n",
    ")->Annotated[str, \"some return string\"]:\n",
    "    \"\"\"This tool is for scraping a web site based on the given url\"\"\"\n",
    "    return url\n",
    "\n",
    "def store_data(\n",
    "    data:Annotated[str, \"data to store\"], \n",
    ")->Annotated[str, \"message\"]:\n",
    "    \"\"\"This tool is for saving or storing data into database\"\"\"\n",
    "    return \"done\"\n",
    "\n",
    "def save_memo(\n",
    "    memo:Annotated[str, \"memo to save\"], \n",
    ")->Annotated[str, \"message\"]:\n",
    "    \"\"\"This tool is for saving the user message into memo\"\"\"\n",
    "    return \"done\"\n",
    "\n",
    "def book_calendar(\n",
    "    event:Annotated[str, \"name of event\"], \n",
    "    day_of_month:Annotated[str, \"day of the month of the event\"]=None,\n",
    "    day:Annotated[str, \"day of the event\"]=None, \n",
    "    month:Annotated[str, \"month of the event\"]=None, \n",
    "    year:Annotated[str, \"year of the event\"]=None, \n",
    "    where:Annotated[Optional[str], \"where the event will be held\"]=None\n",
    ")->Annotated[str, \"message\"]:\n",
    "    \"\"\"This tool is for booking an event in your calendar. It will have event name, date and place\"\"\"\n",
    "    return \"done\"\n",
    "\n",
    "def create_sql_query(\n",
    "    requirement:Annotated[str, \"user's requirement on what he or she wants to know from our database\"]\n",
    ")->Annotated[str, \"message\"]:\n",
    "    \"\"\"This tool is for translating a user's requirement into SQL query\"\"\"\n",
    "    return \"done\"\n",
    "\n",
    "def query_from_sql_database(\n",
    "    query:Annotated[str, \"sql query\"]\n",
    ")->Annotated[str, \"message\"]:\n",
    "    \"\"\"This tool is for query the data from sql database.\"\"\"\n",
    "    return \"done\"\n",
    "\n",
    "def get_medatada_from_database(\n",
    "    query:Annotated[str, \"sql query\"]\n",
    ")->Annotated[str, \"message\"]:\n",
    "    \"\"\"This tool is for query the metadata from sql database to understand how what is in each table.\"\"\"\n",
    "    return \"done\""
   ]
  },
  {
   "cell_type": "code",
   "execution_count": 46,
   "metadata": {},
   "outputs": [
    {
     "name": "stdout",
     "output_type": "stream",
     "text": [
      "Read the input carefully, think what the input is all about and which tool is the best match. Return only the name and parameters of these tools\n",
      "\n",
      "\n",
      "[{\"type\": \"function\", \"function\": {\"name\": \"web_scraping\", \"description\": \"This tool is for scraping a web site based on the given url\", \"parameters\": {\"url\": {\"type\": \"string\", \"description\": \"a target url\"}, \"engine\": {\"type\": null, \"description\": \"the search engine\", \"default\": \"google\"}}}, \"required\": [\"url\"]}, {\"type\": \"function\", \"function\": {\"name\": \"store_data\", \"description\": \"This tool is for saving or storing data into database\", \"parameters\": {\"data\": {\"type\": \"string\", \"description\": \"data to store\"}}}, \"required\": [\"data\"]}, {\"type\": \"function\", \"function\": {\"name\": \"save_memo\", \"description\": \"This tool is for saving the user message into memo\", \"parameters\": {\"memo\": {\"type\": \"string\", \"description\": \"memo to save\"}}}, \"required\": [\"memo\"]}, {\"type\": \"function\", \"function\": {\"name\": \"book_calendar\", \"description\": \"This tool is for booking an event in your calendar. It will have event name, date and place\", \"parameters\": {\"event\": {\"type\": \"string\", \"description\": \"name of event\"}, \"day_of_month\": {\"type\": \"string\", \"description\": \"day of the month of the event\", \"default\": null}, \"day\": {\"type\": \"string\", \"description\": \"day of the event\", \"default\": null}, \"month\": {\"type\": \"string\", \"description\": \"month of the event\", \"default\": null}, \"year\": {\"type\": \"string\", \"description\": \"year of the event\", \"default\": null}, \"where\": {\"type\": \"string\", \"description\": \"where the event will be held\", \"default\": null}}}, \"required\": [\"event\"]}, {\"type\": \"function\", \"function\": {\"name\": \"create_sql_query\", \"description\": \"This tool is for translating a user's requirement into SQL query\", \"parameters\": {\"requirement\": {\"type\": \"string\", \"description\": \"user's requirement on what he or she wants to know from our database\"}}}, \"required\": [\"requirement\"]}]\n"
     ]
    }
   ],
   "source": [
    "tools = ToolBox(tools=[web_scraping, store_data, save_memo, book_calendar, create_sql_query])\n",
    "\n",
    "print(tools.as_prompt())"
   ]
  },
  {
   "cell_type": "code",
   "execution_count": 47,
   "metadata": {},
   "outputs": [
    {
     "name": "stdout",
     "output_type": "stream",
     "text": [
      "Do not add any preambles, explanation, conversations or interactions. \n",
      "Use this JSON schemas: \n",
      "\n",
      "{\"tool\": \"string the name of the tool\", \"parameters\": \"string a key value object contains all the tool's inputs\"}\n",
      "\n",
      "Example: \n",
      "\n",
      "{\"tool\": \"the name of the tool\", \"parameters\": {\"param1\": \"input of param1\", \"param2\": \"input of param2\", \"paramN\": \"input of paramN\"}}\n",
      "\n",
      "It's important to remember that always return your response as in the schema above in a code block becuase I have to use the data in JSON format.\n"
     ]
    }
   ],
   "source": [
    "_, _, format_instructions = convert_pydantic_to_prompt(Tool)\n",
    "print(format_instructions)"
   ]
  },
  {
   "cell_type": "code",
   "execution_count": 56,
   "metadata": {},
   "outputs": [
    {
     "name": "stdout",
     "output_type": "stream",
     "text": [
      "Do not add any preambles, explanation, conversations or interactions. \n",
      "Use this JSON schemas: \n",
      "\n",
      "{\"name\": \"string \", \"description\": \"string \", \"formula\": \"string None\"}\n",
      "\n",
      "Example: \n",
      "\n",
      "{\"name\": \"\", \"description\": \"\", \"formula\": \"\"}\n",
      "\n",
      "It's important to remember that always return your response as in the schema above in a code block becuase I have to use the data in JSON format.\n"
     ]
    }
   ],
   "source": [
    "class Metric(BroModel):\n",
    "    name:str = Field(description=\"\", example=\"\")\n",
    "    description:str = Field(description=\"\", example=\"\")\n",
    "    formula:Optional[str] = Field(desction=\"\", example=\"\")\n",
    "_, _, response = convert_pydantic_to_prompt(Metric)\n",
    "print(response)"
   ]
  },
  {
   "cell_type": "code",
   "execution_count": 53,
   "metadata": {},
   "outputs": [
    {
     "name": "stdout",
     "output_type": "stream",
     "text": [
      "Do not add any preambles, explanation, conversations or interactions. \n",
      "Use this JSON schemas: \n",
      "\n",
      "{\"metics\": \"array of \"}\n",
      "\n",
      "Example: \n",
      "\n",
      "{\"metics\": \"\"}\n",
      "\n",
      "It's important to remember that always return your response as in the schema above in a code block becuase I have to use the data in JSON format.\n"
     ]
    }
   ],
   "source": [
    "class KeyMetrics(BroModel):\n",
    "    metics:List[Metric] = Field(description=\"\", example=\"\")\n",
    "_, _, response = convert_pydantic_to_prompt(KeyMetrics)\n",
    "print(response)"
   ]
  }
 ],
 "metadata": {
  "kernelspec": {
   "display_name": "Python 3 (ipykernel)",
   "language": "python",
   "name": "python3"
  },
  "language_info": {
   "codemirror_mode": {
    "name": "ipython",
    "version": 3
   },
   "file_extension": ".py",
   "mimetype": "text/x-python",
   "name": "python",
   "nbconvert_exporter": "python",
   "pygments_lexer": "ipython3",
   "version": "3.11.10"
  }
 },
 "nbformat": 4,
 "nbformat_minor": 4
}
